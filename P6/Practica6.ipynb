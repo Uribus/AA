{
 "cells": [
  {
   "cell_type": "markdown",
   "metadata": {},
   "source": [
    "# Kernel lineal"
   ]
  },
  {
   "cell_type": "code",
   "execution_count": 30,
   "metadata": {},
   "outputs": [],
   "source": [
    "import matplotlib.pyplot as plt\n",
    "import numpy as np\n",
    "import math\n",
    "import scipy.optimize as opt\n",
    "from scipy.io import loadmat\n",
    "from sklearn import preprocessing\n",
    "from sklearn.svm import SVC "
   ]
  },
  {
   "cell_type": "code",
   "execution_count": 8,
   "metadata": {},
   "outputs": [],
   "source": [
    "svc = SVC(C=1.0 , kernel='rbf', tol=0.001, max_iter=-1)"
   ]
  },
  {
   "cell_type": "code",
   "execution_count": 12,
   "metadata": {},
   "outputs": [],
   "source": [
    "data = loadmat('.\\p6\\ex6data1.mat')\n",
    "X, y = data['X'], data['y']"
   ]
  },
  {
   "cell_type": "code",
   "execution_count": 18,
   "metadata": {
    "scrolled": true
   },
   "outputs": [
    {
     "data": {
      "text/plain": [
       "SVC(kernel='linear')"
      ]
     },
     "execution_count": 18,
     "metadata": {},
     "output_type": "execute_result"
    }
   ],
   "source": [
    "svm =  SVC(kernel='linear', C=1.0)\n",
    "svm.fit(X,y.ravel())"
   ]
  },
  {
   "cell_type": "code",
   "execution_count": 20,
   "metadata": {
    "scrolled": true
   },
   "outputs": [
    {
     "data": {
      "text/plain": [
       "array([[1.9643  , 4.5957  ],\n",
       "       [2.2753  , 3.8589  ],\n",
       "       [2.9781  , 4.5651  ],\n",
       "       [2.932   , 3.5519  ],\n",
       "       [3.5772  , 2.856   ],\n",
       "       [4.015   , 3.1937  ],\n",
       "       [3.3814  , 3.4291  ],\n",
       "       [3.9113  , 4.1761  ],\n",
       "       [2.7822  , 4.0431  ],\n",
       "       [2.5518  , 4.6162  ],\n",
       "       [3.3698  , 3.9101  ],\n",
       "       [3.1048  , 3.0709  ],\n",
       "       [1.9182  , 4.0534  ],\n",
       "       [2.2638  , 4.3706  ],\n",
       "       [2.6555  , 3.5008  ],\n",
       "       [3.1855  , 4.2888  ],\n",
       "       [3.6579  , 3.8692  ],\n",
       "       [3.9113  , 3.4291  ],\n",
       "       [3.6002  , 3.1221  ],\n",
       "       [3.0357  , 3.3165  ],\n",
       "       [1.5841  , 3.3575  ],\n",
       "       [2.0103  , 3.2039  ],\n",
       "       [1.9527  , 2.7843  ],\n",
       "       [2.2753  , 2.7127  ],\n",
       "       [2.3099  , 2.9584  ],\n",
       "       [2.8283  , 2.6309  ],\n",
       "       [3.0473  , 2.2931  ],\n",
       "       [2.4827  , 2.0373  ],\n",
       "       [2.5057  , 2.3853  ],\n",
       "       [1.8721  , 2.0577  ],\n",
       "       [2.0103  , 2.3546  ],\n",
       "       [1.2269  , 2.3239  ],\n",
       "       [1.8951  , 2.9174  ],\n",
       "       [1.561   , 3.0709  ],\n",
       "       [1.5495  , 2.6923  ],\n",
       "       [1.6878  , 2.4057  ],\n",
       "       [1.4919  , 2.0271  ],\n",
       "       [0.962   , 2.682   ],\n",
       "       [1.1693  , 2.9276  ],\n",
       "       [0.8122  , 2.9992  ],\n",
       "       [0.9735  , 3.3881  ],\n",
       "       [1.25    , 3.1937  ],\n",
       "       [1.3191  , 3.5109  ],\n",
       "       [2.2292  , 2.201   ],\n",
       "       [2.4482  , 2.6411  ],\n",
       "       [2.7938  , 1.9656  ],\n",
       "       [2.091   , 1.6177  ],\n",
       "       [2.5403  , 2.8867  ],\n",
       "       [0.9044  , 3.0198  ],\n",
       "       [0.76615 , 2.5899  ],\n",
       "       [0.086405, 4.1045  ]])"
      ]
     },
     "execution_count": 20,
     "metadata": {},
     "output_type": "execute_result"
    }
   ],
   "source": [
    "X"
   ]
  },
  {
   "cell_type": "code",
   "execution_count": 21,
   "metadata": {
    "scrolled": true
   },
   "outputs": [
    {
     "data": {
      "text/plain": [
       "array([[1],\n",
       "       [1],\n",
       "       [1],\n",
       "       [1],\n",
       "       [1],\n",
       "       [1],\n",
       "       [1],\n",
       "       [1],\n",
       "       [1],\n",
       "       [1],\n",
       "       [1],\n",
       "       [1],\n",
       "       [1],\n",
       "       [1],\n",
       "       [1],\n",
       "       [1],\n",
       "       [1],\n",
       "       [1],\n",
       "       [1],\n",
       "       [1],\n",
       "       [0],\n",
       "       [0],\n",
       "       [0],\n",
       "       [0],\n",
       "       [0],\n",
       "       [0],\n",
       "       [0],\n",
       "       [0],\n",
       "       [0],\n",
       "       [0],\n",
       "       [0],\n",
       "       [0],\n",
       "       [0],\n",
       "       [0],\n",
       "       [0],\n",
       "       [0],\n",
       "       [0],\n",
       "       [0],\n",
       "       [0],\n",
       "       [0],\n",
       "       [0],\n",
       "       [0],\n",
       "       [0],\n",
       "       [0],\n",
       "       [0],\n",
       "       [0],\n",
       "       [0],\n",
       "       [0],\n",
       "       [0],\n",
       "       [0],\n",
       "       [1]], dtype=uint8)"
      ]
     },
     "execution_count": 21,
     "metadata": {},
     "output_type": "execute_result"
    }
   ],
   "source": [
    "y"
   ]
  },
  {
   "cell_type": "code",
   "execution_count": 28,
   "metadata": {},
   "outputs": [
    {
     "data": {
      "text/plain": [
       "<Figure size 432x288 with 0 Axes>"
      ]
     },
     "metadata": {},
     "output_type": "display_data"
    },
    {
     "data": {
      "image/png": "[encoded data removed]",
      "text/plain": [
       "<Figure size 576x576 with 1 Axes>"
      ]
     },
     "metadata": {
      "needs_background": "light"
     },
     "output_type": "display_data"
    }
   ],
   "source": [
    "pos_si = np.where(y.ravel()[:]==1)\n",
    "pos_no = np.where(y.ravel()[:]==0)\n",
    "plt.figure()\n",
    "fig= plt.figure(figsize=(8,8))\n",
    "plt.scatter(X[pos_si,0], X[pos_si,1], marker='+',c = 'k')\n",
    "plt.scatter(X[pos_no,0], X[pos_no,1], marker='o',c = 'g')\n",
    "plt.savefig('p6Fig1.png')"
   ]
  },
  {
   "cell_type": "code",
   "execution_count": 29,
   "metadata": {},
   "outputs": [],
   "source": [
    "def sigmoide(z):\n",
    "    \"\"\"\n",
    "    Devuelve la función sigmoide dado un valor\n",
    "    Parámetros:\n",
    "    z    -- numero, array o matriz\n",
    "    \"\"\"\n",
    "    return 1/(1+(math.e**(-z)))"
   ]
  },
  {
   "cell_type": "code",
   "execution_count": 53,
   "metadata": {},
   "outputs": [],
   "source": [
    "def pinta_frontera_recta(XX,Y):\n",
    "    plt.figure()\n",
    "    pos_si = np.where(Y==1)\n",
    "    pos_no = np.where(Y==0)\n",
    "    fig= plt.figure(figsize=(8,8))\n",
    "    plt.scatter(XX[pos_si,0], XX[pos_si,1], marker='+',c = 'k')\n",
    "    plt.scatter(XX[pos_no,0], XX[pos_no,1], marker='o',c = 'g')\n",
    "    x1_min, x1_max = XX[:,0].min(), XX[:,0].max()\n",
    "    x2_min, x2_max = XX[:,1].min(), XX[:,1].max()\n",
    "    xx1, xx2 = np.meshgrid(np.linspace(x1_min, x1_max),np.linspace(x2_min, x2_max))\n",
    "    #h = sigmoide(np.c_[np.ones((xx1.ravel().shape[0], 1)), xx1.ravel(), xx2.ravel()].dot(theta))\n",
    "    h = svm.predict(XX).reshape(xx1.shape)\n",
    "    plt.contour(xx1, xx2, svm, [0.5], linewidths=1, colors='b')\n",
    "    #plt.savefig(\"frontera.png\")  "
   ]
  },
  {
   "cell_type": "code",
   "execution_count": 386,
   "metadata": {},
   "outputs": [],
   "source": [
    "def visualize_boundary(X, y, svm, file_name): \n",
    "    x1 = np.linspace(X[:, 0].min(), X[:, 0].max(), 100) \n",
    "    x2 = np.linspace(X[:, 1].min(), X[:, 1].max(), 100) \n",
    "    x1, x2 = np.meshgrid(x1, x2) \n",
    "    yp = svm.predict(np.array([x1.ravel(), x2.ravel()]).T).reshape(x1.shape) \n",
    "    pos = (y == 1).ravel() \n",
    "    neg = (y == 0).ravel() \n",
    "    plt.figure() \n",
    "    plt.figure(figsize=(10,10))\n",
    "    plt.scatter(X[pos, 0], X[pos, 1], color='black', marker='+') \n",
    "    plt.scatter( \n",
    "    X[neg, 0], X[neg, 1], color='yellow', edgecolors='black', marker='o') \n",
    "    plt.contour(x1, x2, yp) \n",
    "    plt.savefig(file_name) \n",
    "    plt.close()"
   ]
  },
  {
   "cell_type": "code",
   "execution_count": 70,
   "metadata": {},
   "outputs": [
    {
     "data": {
      "text/plain": [
       "<Figure size 432x288 with 0 Axes>"
      ]
     },
     "metadata": {},
     "output_type": "display_data"
    }
   ],
   "source": [
    "visualize_boundary(X,y,svm, \"p6Fig2.png\")"
   ]
  },
  {
   "cell_type": "code",
   "execution_count": 71,
   "metadata": {},
   "outputs": [
    {
     "data": {
      "text/plain": [
       "SVC(C=100.0, kernel='linear')"
      ]
     },
     "execution_count": 71,
     "metadata": {},
     "output_type": "execute_result"
    }
   ],
   "source": [
    "svm100 =  SVC(kernel='linear', C=100.0)\n",
    "svm100.fit(X,y.ravel())"
   ]
  },
  {
   "cell_type": "code",
   "execution_count": 72,
   "metadata": {},
   "outputs": [
    {
     "data": {
      "text/plain": [
       "<Figure size 432x288 with 0 Axes>"
      ]
     },
     "metadata": {},
     "output_type": "display_data"
    }
   ],
   "source": [
    "visualize_boundary(X,y,svm100, \"p6Fig3.png\")"
   ]
  },
  {
   "cell_type": "markdown",
   "metadata": {},
   "source": [
    "# Kernel gaussiano"
   ]
  },
  {
   "cell_type": "code",
   "execution_count": 387,
   "metadata": {},
   "outputs": [],
   "source": [
    "data = loadmat('.\\p6\\ex6data2.mat')\n",
    "X, y = data['X'], data['y']"
   ]
  },
  {
   "cell_type": "code",
   "execution_count": 374,
   "metadata": {},
   "outputs": [
    {
     "data": {
      "text/plain": [
       "2"
      ]
     },
     "execution_count": 374,
     "metadata": {},
     "output_type": "execute_result"
    }
   ],
   "source": [
    "X.shape[1]"
   ]
  },
  {
   "cell_type": "code",
   "execution_count": 74,
   "metadata": {},
   "outputs": [
    {
     "data": {
      "text/plain": [
       "<Figure size 432x288 with 0 Axes>"
      ]
     },
     "metadata": {},
     "output_type": "display_data"
    },
    {
     "data": {
      "image/png": "[encoded data removed]",
      "text/plain": [
       "<Figure size 576x576 with 1 Axes>"
      ]
     },
     "metadata": {
      "needs_background": "light"
     },
     "output_type": "display_data"
    }
   ],
   "source": [
    "pos_si = np.where(y.ravel()[:]==1)\n",
    "pos_no = np.where(y.ravel()[:]==0)\n",
    "plt.figure()\n",
    "fig= plt.figure(figsize=(8,8))\n",
    "plt.scatter(X[pos_si,0], X[pos_si,1], marker='+',c = 'k')\n",
    "plt.scatter(X[pos_no,0], X[pos_no,1], marker='o',c = 'g')\n",
    "plt.savefig('p6Fig14.png')"
   ]
  },
  {
   "cell_type": "code",
   "execution_count": 388,
   "metadata": {},
   "outputs": [
    {
     "data": {
      "text/plain": [
       "<Figure size 432x288 with 0 Axes>"
      ]
     },
     "metadata": {},
     "output_type": "display_data"
    }
   ],
   "source": [
    "C = 1.0\n",
    "sigma = 0.1\n",
    "svm =  SVC(kernel='rbf', C=C, gamma = 1 / (2* sigma**2))\n",
    "svm.fit(X,y.ravel())\n",
    "visualize_boundary(X,y,svm, \"p6Fig5.png\")"
   ]
  },
  {
   "cell_type": "markdown",
   "metadata": {},
   "source": [
    "## Elección de los parámetros C y ${\\sigma}$"
   ]
  },
  {
   "cell_type": "markdown",
   "metadata": {},
   "source": [
    "$this_{is}^{inline}$"
   ]
  },
  {
   "cell_type": "markdown",
   "metadata": {},
   "source": [
    "${\\lambda}$ ${\\sigma}$"
   ]
  },
  {
   "cell_type": "code",
   "execution_count": 91,
   "metadata": {},
   "outputs": [],
   "source": [
    "data = loadmat('.\\p6\\ex6data3.mat')\n",
    "X, y, Xval, yval = data['X'], data['y'], data['Xval'], data['yval']"
   ]
  },
  {
   "cell_type": "code",
   "execution_count": 92,
   "metadata": {},
   "outputs": [],
   "source": [
    "C_vec = [0.01, 0.03, 0.1, 0.3, 1, 3, 10, 30]\n",
    "sigma_vec = [0.01, 0.03, 0.1, 0.3, 1, 3, 10, 30]\n",
    "scores = np.zeros((len(C_vec), len(sigma_vec)))"
   ]
  },
  {
   "cell_type": "code",
   "execution_count": 138,
   "metadata": {},
   "outputs": [],
   "source": [
    "def genera_modelos(vector_C, vector_Sigma):\n",
    "    modelos = []\n",
    "    #para cada valor de C\n",
    "    for i in vector_C:\n",
    "        #para cada valor de sigma\n",
    "        for j in vector_Sigma:\n",
    "            #añadimos el modelo al conjunto de modelos\n",
    "            modelos.append(SVC(kernel='rbf', C=i, gamma = 1 / (2 * j**2)))\n",
    "    return np.array(modelos).reshape(len(vector_C),len(vector_Sigma))"
   ]
  },
  {
   "cell_type": "code",
   "execution_count": null,
   "metadata": {},
   "outputs": [],
   "source": [
    "modelos[0,0]"
   ]
  },
  {
   "cell_type": "code",
   "execution_count": 157,
   "metadata": {},
   "outputs": [],
   "source": [
    "def evalua_modelos(modelos, X, y, resultados):\n",
    "    for i in range(modelos.shape[0]):\n",
    "        for j in range(modelos.shape[1]):\n",
    "            fname = \"p6FigGauss\"+str(i+j)+\".png\"\n",
    "            modelos[i,j].fit(X,y.ravel())\n",
    "            visualize_boundary(X,y,modelos[i,j],fname)\n",
    "            error = np.count_nonzero(np.where((y.ravel() - modelos[i,j].predict(X)) != 0))\n",
    "            resultados[i,j] = error\n",
    "    return resultados"
   ]
  },
  {
   "cell_type": "code",
   "execution_count": 139,
   "metadata": {},
   "outputs": [],
   "source": [
    "modelos = genera_modelos(C_vec,sigma_vec)"
   ]
  },
  {
   "cell_type": "code",
   "execution_count": 145,
   "metadata": {
    "scrolled": true
   },
   "outputs": [
    {
     "data": {
      "text/plain": [
       "array([[SVC(C=0.01, gamma=5000.0), SVC(C=0.01, gamma=555.5555555555555),\n",
       "        SVC(C=0.01, gamma=49.99999999999999),\n",
       "        SVC(C=0.01, gamma=5.555555555555555), SVC(C=0.01, gamma=0.5),\n",
       "        SVC(C=0.01, gamma=0.05555555555555555), SVC(C=0.01, gamma=0.005),\n",
       "        SVC(C=0.01, gamma=0.0005555555555555556)],\n",
       "       [SVC(C=0.03, gamma=5000.0), SVC(C=0.03, gamma=555.5555555555555),\n",
       "        SVC(C=0.03, gamma=49.99999999999999),\n",
       "        SVC(C=0.03, gamma=5.555555555555555), SVC(C=0.03, gamma=0.5),\n",
       "        SVC(C=0.03, gamma=0.05555555555555555), SVC(C=0.03, gamma=0.005),\n",
       "        SVC(C=0.03, gamma=0.0005555555555555556)],\n",
       "       [SVC(C=0.1, gamma=5000.0), SVC(C=0.1, gamma=555.5555555555555),\n",
       "        SVC(C=0.1, gamma=49.99999999999999),\n",
       "        SVC(C=0.1, gamma=5.555555555555555), SVC(C=0.1, gamma=0.5),\n",
       "        SVC(C=0.1, gamma=0.05555555555555555), SVC(C=0.1, gamma=0.005),\n",
       "        SVC(C=0.1, gamma=0.0005555555555555556)],\n",
       "       [SVC(C=0.3, gamma=5000.0), SVC(C=0.3, gamma=555.5555555555555),\n",
       "        SVC(C=0.3, gamma=49.99999999999999),\n",
       "        SVC(C=0.3, gamma=5.555555555555555), SVC(C=0.3, gamma=0.5),\n",
       "        SVC(C=0.3, gamma=0.05555555555555555), SVC(C=0.3, gamma=0.005),\n",
       "        SVC(C=0.3, gamma=0.0005555555555555556)],\n",
       "       [SVC(C=1, gamma=5000.0), SVC(C=1, gamma=555.5555555555555),\n",
       "        SVC(C=1, gamma=49.99999999999999),\n",
       "        SVC(C=1, gamma=5.555555555555555), SVC(C=1, gamma=0.5),\n",
       "        SVC(C=1, gamma=0.05555555555555555), SVC(C=1, gamma=0.005),\n",
       "        SVC(C=1, gamma=0.0005555555555555556)],\n",
       "       [SVC(C=3, gamma=5000.0), SVC(C=3, gamma=555.5555555555555),\n",
       "        SVC(C=3, gamma=49.99999999999999),\n",
       "        SVC(C=3, gamma=5.555555555555555), SVC(C=3, gamma=0.5),\n",
       "        SVC(C=3, gamma=0.05555555555555555), SVC(C=3, gamma=0.005),\n",
       "        SVC(C=3, gamma=0.0005555555555555556)],\n",
       "       [SVC(C=10, gamma=5000.0), SVC(C=10, gamma=555.5555555555555),\n",
       "        SVC(C=10, gamma=49.99999999999999),\n",
       "        SVC(C=10, gamma=5.555555555555555), SVC(C=10, gamma=0.5),\n",
       "        SVC(C=10, gamma=0.05555555555555555), SVC(C=10, gamma=0.005),\n",
       "        SVC(C=10, gamma=0.0005555555555555556)],\n",
       "       [SVC(C=30, gamma=5000.0), SVC(C=30, gamma=555.5555555555555),\n",
       "        SVC(C=30, gamma=49.99999999999999),\n",
       "        SVC(C=30, gamma=5.555555555555555), SVC(C=30, gamma=0.5),\n",
       "        SVC(C=30, gamma=0.05555555555555555), SVC(C=30, gamma=0.005),\n",
       "        SVC(C=30, gamma=0.0005555555555555556)]], dtype=object)"
      ]
     },
     "execution_count": 145,
     "metadata": {},
     "output_type": "execute_result"
    }
   ],
   "source": [
    "modelos"
   ]
  },
  {
   "cell_type": "code",
   "execution_count": 146,
   "metadata": {},
   "outputs": [
    {
     "data": {
      "text/plain": [
       "array([[0., 0., 0., 0., 0., 0., 0., 0.],\n",
       "       [0., 0., 0., 0., 0., 0., 0., 0.],\n",
       "       [0., 0., 0., 0., 0., 0., 0., 0.],\n",
       "       [0., 0., 0., 0., 0., 0., 0., 0.],\n",
       "       [0., 0., 0., 0., 0., 0., 0., 0.],\n",
       "       [0., 0., 0., 0., 0., 0., 0., 0.],\n",
       "       [0., 0., 0., 0., 0., 0., 0., 0.],\n",
       "       [0., 0., 0., 0., 0., 0., 0., 0.]])"
      ]
     },
     "execution_count": 146,
     "metadata": {},
     "output_type": "execute_result"
    }
   ],
   "source": [
    "scores"
   ]
  },
  {
   "cell_type": "code",
   "execution_count": 158,
   "metadata": {},
   "outputs": [
    {
     "name": "stderr",
     "output_type": "stream",
     "text": [
      "<ipython-input-69-add3dac207f5>:13: UserWarning: No contour levels were found within the data range.\n",
      "  plt.contour(x1, x2, yp)\n",
      "<ipython-input-69-add3dac207f5>:13: UserWarning: No contour levels were found within the data range.\n",
      "  plt.contour(x1, x2, yp)\n",
      "<ipython-input-69-add3dac207f5>:13: UserWarning: No contour levels were found within the data range.\n",
      "  plt.contour(x1, x2, yp)\n",
      "<ipython-input-69-add3dac207f5>:13: UserWarning: No contour levels were found within the data range.\n",
      "  plt.contour(x1, x2, yp)\n",
      "<ipython-input-69-add3dac207f5>:13: UserWarning: No contour levels were found within the data range.\n",
      "  plt.contour(x1, x2, yp)\n",
      "<ipython-input-69-add3dac207f5>:13: UserWarning: No contour levels were found within the data range.\n",
      "  plt.contour(x1, x2, yp)\n",
      "<ipython-input-69-add3dac207f5>:13: UserWarning: No contour levels were found within the data range.\n",
      "  plt.contour(x1, x2, yp)\n",
      "<ipython-input-69-add3dac207f5>:13: UserWarning: No contour levels were found within the data range.\n",
      "  plt.contour(x1, x2, yp)\n",
      "<ipython-input-69-add3dac207f5>:13: UserWarning: No contour levels were found within the data range.\n",
      "  plt.contour(x1, x2, yp)\n",
      "<ipython-input-69-add3dac207f5>:13: UserWarning: No contour levels were found within the data range.\n",
      "  plt.contour(x1, x2, yp)\n",
      "<ipython-input-69-add3dac207f5>:13: UserWarning: No contour levels were found within the data range.\n",
      "  plt.contour(x1, x2, yp)\n",
      "<ipython-input-69-add3dac207f5>:13: UserWarning: No contour levels were found within the data range.\n",
      "  plt.contour(x1, x2, yp)\n",
      "<ipython-input-69-add3dac207f5>:13: UserWarning: No contour levels were found within the data range.\n",
      "  plt.contour(x1, x2, yp)\n",
      "<ipython-input-69-add3dac207f5>:13: UserWarning: No contour levels were found within the data range.\n",
      "  plt.contour(x1, x2, yp)\n",
      "<ipython-input-69-add3dac207f5>:13: UserWarning: No contour levels were found within the data range.\n",
      "  plt.contour(x1, x2, yp)\n",
      "<ipython-input-69-add3dac207f5>:13: UserWarning: No contour levels were found within the data range.\n",
      "  plt.contour(x1, x2, yp)\n",
      "<ipython-input-69-add3dac207f5>:13: UserWarning: No contour levels were found within the data range.\n",
      "  plt.contour(x1, x2, yp)\n",
      "<ipython-input-69-add3dac207f5>:9: RuntimeWarning: More than 20 figures have been opened. Figures created through the pyplot interface (`matplotlib.pyplot.figure`) are retained until explicitly closed and may consume too much memory. (To control this warning, see the rcParam `figure.max_open_warning`).\n",
      "  plt.figure(figsize=(10,10))\n",
      "<ipython-input-69-add3dac207f5>:8: RuntimeWarning: More than 20 figures have been opened. Figures created through the pyplot interface (`matplotlib.pyplot.figure`) are retained until explicitly closed and may consume too much memory. (To control this warning, see the rcParam `figure.max_open_warning`).\n",
      "  plt.figure()\n",
      "<ipython-input-69-add3dac207f5>:13: UserWarning: No contour levels were found within the data range.\n",
      "  plt.contour(x1, x2, yp)\n",
      "<ipython-input-69-add3dac207f5>:13: UserWarning: No contour levels were found within the data range.\n",
      "  plt.contour(x1, x2, yp)\n",
      "<ipython-input-69-add3dac207f5>:13: UserWarning: No contour levels were found within the data range.\n",
      "  plt.contour(x1, x2, yp)\n",
      "<ipython-input-69-add3dac207f5>:13: UserWarning: No contour levels were found within the data range.\n",
      "  plt.contour(x1, x2, yp)\n",
      "<ipython-input-69-add3dac207f5>:13: UserWarning: No contour levels were found within the data range.\n",
      "  plt.contour(x1, x2, yp)\n",
      "<ipython-input-69-add3dac207f5>:13: UserWarning: No contour levels were found within the data range.\n",
      "  plt.contour(x1, x2, yp)\n",
      "<ipython-input-69-add3dac207f5>:13: UserWarning: No contour levels were found within the data range.\n",
      "  plt.contour(x1, x2, yp)\n",
      "<ipython-input-69-add3dac207f5>:13: UserWarning: No contour levels were found within the data range.\n",
      "  plt.contour(x1, x2, yp)\n",
      "<ipython-input-69-add3dac207f5>:13: UserWarning: No contour levels were found within the data range.\n",
      "  plt.contour(x1, x2, yp)\n",
      "<ipython-input-69-add3dac207f5>:13: UserWarning: No contour levels were found within the data range.\n",
      "  plt.contour(x1, x2, yp)\n"
     ]
    },
    {
     "data": {
      "text/plain": [
       "array([[87., 87., 87., 87., 87., 87., 87., 87.],\n",
       "       [87., 87., 87., 26., 87., 87., 87., 87.],\n",
       "       [87., 87., 22., 16., 27., 87., 87., 87.],\n",
       "       [87., 69.,  8., 11., 18., 57., 87., 87.],\n",
       "       [ 0.,  3.,  9.,  9., 14., 24., 87., 87.],\n",
       "       [ 0.,  3., 10., 11., 12., 15., 66., 87.],\n",
       "       [ 0.,  0.,  5., 11., 10., 13., 24., 87.],\n",
       "       [ 0.,  0.,  4.,  8., 10., 13., 16., 56.]])"
      ]
     },
     "execution_count": 158,
     "metadata": {},
     "output_type": "execute_result"
    },
    {
     "data": {
      "text/plain": [
       "<Figure size 432x288 with 0 Axes>"
      ]
     },
     "metadata": {},
     "output_type": "display_data"
    },
    {
     "data": {
      "text/plain": [
       "<Figure size 432x288 with 0 Axes>"
      ]
     },
     "metadata": {},
     "output_type": "display_data"
    },
    {
     "data": {
      "text/plain": [
       "<Figure size 432x288 with 0 Axes>"
      ]
     },
     "metadata": {},
     "output_type": "display_data"
    },
    {
     "data": {
      "text/plain": [
       "<Figure size 432x288 with 0 Axes>"
      ]
     },
     "metadata": {},
     "output_type": "display_data"
    },
    {
     "data": {
      "text/plain": [
       "<Figure size 432x288 with 0 Axes>"
      ]
     },
     "metadata": {},
     "output_type": "display_data"
    },
    {
     "data": {
      "text/plain": [
       "<Figure size 432x288 with 0 Axes>"
      ]
     },
     "metadata": {},
     "output_type": "display_data"
    },
    {
     "data": {
      "text/plain": [
       "<Figure size 432x288 with 0 Axes>"
      ]
     },
     "metadata": {},
     "output_type": "display_data"
    },
    {
     "data": {
      "text/plain": [
       "<Figure size 432x288 with 0 Axes>"
      ]
     },
     "metadata": {},
     "output_type": "display_data"
    },
    {
     "data": {
      "text/plain": [
       "<Figure size 432x288 with 0 Axes>"
      ]
     },
     "metadata": {},
     "output_type": "display_data"
    },
    {
     "data": {
      "text/plain": [
       "<Figure size 432x288 with 0 Axes>"
      ]
     },
     "metadata": {},
     "output_type": "display_data"
    },
    {
     "data": {
      "text/plain": [
       "<Figure size 432x288 with 0 Axes>"
      ]
     },
     "metadata": {},
     "output_type": "display_data"
    },
    {
     "data": {
      "text/plain": [
       "<Figure size 432x288 with 0 Axes>"
      ]
     },
     "metadata": {},
     "output_type": "display_data"
    },
    {
     "data": {
      "text/plain": [
       "<Figure size 432x288 with 0 Axes>"
      ]
     },
     "metadata": {},
     "output_type": "display_data"
    },
    {
     "data": {
      "text/plain": [
       "<Figure size 432x288 with 0 Axes>"
      ]
     },
     "metadata": {},
     "output_type": "display_data"
    },
    {
     "data": {
      "text/plain": [
       "<Figure size 432x288 with 0 Axes>"
      ]
     },
     "metadata": {},
     "output_type": "display_data"
    },
    {
     "data": {
      "text/plain": [
       "<Figure size 432x288 with 0 Axes>"
      ]
     },
     "metadata": {},
     "output_type": "display_data"
    },
    {
     "data": {
      "text/plain": [
       "<Figure size 432x288 with 0 Axes>"
      ]
     },
     "metadata": {},
     "output_type": "display_data"
    },
    {
     "data": {
      "text/plain": [
       "<Figure size 432x288 with 0 Axes>"
      ]
     },
     "metadata": {},
     "output_type": "display_data"
    },
    {
     "data": {
      "text/plain": [
       "<Figure size 432x288 with 0 Axes>"
      ]
     },
     "metadata": {},
     "output_type": "display_data"
    },
    {
     "data": {
      "text/plain": [
       "<Figure size 432x288 with 0 Axes>"
      ]
     },
     "metadata": {},
     "output_type": "display_data"
    },
    {
     "data": {
      "text/plain": [
       "<Figure size 432x288 with 0 Axes>"
      ]
     },
     "metadata": {},
     "output_type": "display_data"
    },
    {
     "data": {
      "text/plain": [
       "<Figure size 432x288 with 0 Axes>"
      ]
     },
     "metadata": {},
     "output_type": "display_data"
    },
    {
     "data": {
      "text/plain": [
       "<Figure size 432x288 with 0 Axes>"
      ]
     },
     "metadata": {},
     "output_type": "display_data"
    },
    {
     "data": {
      "text/plain": [
       "<Figure size 432x288 with 0 Axes>"
      ]
     },
     "metadata": {},
     "output_type": "display_data"
    },
    {
     "data": {
      "text/plain": [
       "<Figure size 432x288 with 0 Axes>"
      ]
     },
     "metadata": {},
     "output_type": "display_data"
    },
    {
     "data": {
      "text/plain": [
       "<Figure size 432x288 with 0 Axes>"
      ]
     },
     "metadata": {},
     "output_type": "display_data"
    },
    {
     "data": {
      "text/plain": [
       "<Figure size 432x288 with 0 Axes>"
      ]
     },
     "metadata": {},
     "output_type": "display_data"
    },
    {
     "data": {
      "text/plain": [
       "<Figure size 432x288 with 0 Axes>"
      ]
     },
     "metadata": {},
     "output_type": "display_data"
    },
    {
     "data": {
      "text/plain": [
       "<Figure size 432x288 with 0 Axes>"
      ]
     },
     "metadata": {},
     "output_type": "display_data"
    },
    {
     "data": {
      "text/plain": [
       "<Figure size 432x288 with 0 Axes>"
      ]
     },
     "metadata": {},
     "output_type": "display_data"
    },
    {
     "data": {
      "text/plain": [
       "<Figure size 432x288 with 0 Axes>"
      ]
     },
     "metadata": {},
     "output_type": "display_data"
    },
    {
     "data": {
      "text/plain": [
       "<Figure size 432x288 with 0 Axes>"
      ]
     },
     "metadata": {},
     "output_type": "display_data"
    },
    {
     "data": {
      "text/plain": [
       "<Figure size 432x288 with 0 Axes>"
      ]
     },
     "metadata": {},
     "output_type": "display_data"
    },
    {
     "data": {
      "text/plain": [
       "<Figure size 432x288 with 0 Axes>"
      ]
     },
     "metadata": {},
     "output_type": "display_data"
    },
    {
     "data": {
      "text/plain": [
       "<Figure size 432x288 with 0 Axes>"
      ]
     },
     "metadata": {},
     "output_type": "display_data"
    },
    {
     "data": {
      "text/plain": [
       "<Figure size 432x288 with 0 Axes>"
      ]
     },
     "metadata": {},
     "output_type": "display_data"
    },
    {
     "data": {
      "text/plain": [
       "<Figure size 432x288 with 0 Axes>"
      ]
     },
     "metadata": {},
     "output_type": "display_data"
    },
    {
     "data": {
      "text/plain": [
       "<Figure size 432x288 with 0 Axes>"
      ]
     },
     "metadata": {},
     "output_type": "display_data"
    },
    {
     "data": {
      "text/plain": [
       "<Figure size 432x288 with 0 Axes>"
      ]
     },
     "metadata": {},
     "output_type": "display_data"
    },
    {
     "data": {
      "text/plain": [
       "<Figure size 432x288 with 0 Axes>"
      ]
     },
     "metadata": {},
     "output_type": "display_data"
    },
    {
     "data": {
      "text/plain": [
       "<Figure size 432x288 with 0 Axes>"
      ]
     },
     "metadata": {},
     "output_type": "display_data"
    },
    {
     "data": {
      "text/plain": [
       "<Figure size 432x288 with 0 Axes>"
      ]
     },
     "metadata": {},
     "output_type": "display_data"
    },
    {
     "data": {
      "text/plain": [
       "<Figure size 432x288 with 0 Axes>"
      ]
     },
     "metadata": {},
     "output_type": "display_data"
    },
    {
     "data": {
      "text/plain": [
       "<Figure size 432x288 with 0 Axes>"
      ]
     },
     "metadata": {},
     "output_type": "display_data"
    },
    {
     "data": {
      "text/plain": [
       "<Figure size 432x288 with 0 Axes>"
      ]
     },
     "metadata": {},
     "output_type": "display_data"
    },
    {
     "data": {
      "text/plain": [
       "<Figure size 432x288 with 0 Axes>"
      ]
     },
     "metadata": {},
     "output_type": "display_data"
    },
    {
     "data": {
      "text/plain": [
       "<Figure size 432x288 with 0 Axes>"
      ]
     },
     "metadata": {},
     "output_type": "display_data"
    },
    {
     "data": {
      "text/plain": [
       "<Figure size 432x288 with 0 Axes>"
      ]
     },
     "metadata": {},
     "output_type": "display_data"
    },
    {
     "data": {
      "text/plain": [
       "<Figure size 432x288 with 0 Axes>"
      ]
     },
     "metadata": {},
     "output_type": "display_data"
    },
    {
     "data": {
      "text/plain": [
       "<Figure size 432x288 with 0 Axes>"
      ]
     },
     "metadata": {},
     "output_type": "display_data"
    },
    {
     "data": {
      "text/plain": [
       "<Figure size 432x288 with 0 Axes>"
      ]
     },
     "metadata": {},
     "output_type": "display_data"
    },
    {
     "data": {
      "text/plain": [
       "<Figure size 432x288 with 0 Axes>"
      ]
     },
     "metadata": {},
     "output_type": "display_data"
    },
    {
     "data": {
      "text/plain": [
       "<Figure size 432x288 with 0 Axes>"
      ]
     },
     "metadata": {},
     "output_type": "display_data"
    },
    {
     "data": {
      "text/plain": [
       "<Figure size 432x288 with 0 Axes>"
      ]
     },
     "metadata": {},
     "output_type": "display_data"
    },
    {
     "data": {
      "text/plain": [
       "<Figure size 432x288 with 0 Axes>"
      ]
     },
     "metadata": {},
     "output_type": "display_data"
    },
    {
     "data": {
      "text/plain": [
       "<Figure size 432x288 with 0 Axes>"
      ]
     },
     "metadata": {},
     "output_type": "display_data"
    },
    {
     "data": {
      "text/plain": [
       "<Figure size 432x288 with 0 Axes>"
      ]
     },
     "metadata": {},
     "output_type": "display_data"
    },
    {
     "data": {
      "text/plain": [
       "<Figure size 432x288 with 0 Axes>"
      ]
     },
     "metadata": {},
     "output_type": "display_data"
    },
    {
     "data": {
      "text/plain": [
       "<Figure size 432x288 with 0 Axes>"
      ]
     },
     "metadata": {},
     "output_type": "display_data"
    },
    {
     "data": {
      "text/plain": [
       "<Figure size 432x288 with 0 Axes>"
      ]
     },
     "metadata": {},
     "output_type": "display_data"
    },
    {
     "data": {
      "text/plain": [
       "<Figure size 432x288 with 0 Axes>"
      ]
     },
     "metadata": {},
     "output_type": "display_data"
    },
    {
     "data": {
      "text/plain": [
       "<Figure size 432x288 with 0 Axes>"
      ]
     },
     "metadata": {},
     "output_type": "display_data"
    },
    {
     "data": {
      "text/plain": [
       "<Figure size 432x288 with 0 Axes>"
      ]
     },
     "metadata": {},
     "output_type": "display_data"
    },
    {
     "data": {
      "text/plain": [
       "<Figure size 432x288 with 0 Axes>"
      ]
     },
     "metadata": {},
     "output_type": "display_data"
    }
   ],
   "source": [
    "evalua_modelos(modelos, Xval, yval, scores)"
   ]
  },
  {
   "cell_type": "code",
   "execution_count": 159,
   "metadata": {},
   "outputs": [
    {
     "data": {
      "text/plain": [
       "array([[87., 87., 87., 87., 87., 87., 87., 87.],\n",
       "       [87., 87., 87., 26., 87., 87., 87., 87.],\n",
       "       [87., 87., 22., 16., 27., 87., 87., 87.],\n",
       "       [87., 69.,  8., 11., 18., 57., 87., 87.],\n",
       "       [ 0.,  3.,  9.,  9., 14., 24., 87., 87.],\n",
       "       [ 0.,  3., 10., 11., 12., 15., 66., 87.],\n",
       "       [ 0.,  0.,  5., 11., 10., 13., 24., 87.],\n",
       "       [ 0.,  0.,  4.,  8., 10., 13., 16., 56.]])"
      ]
     },
     "execution_count": 159,
     "metadata": {},
     "output_type": "execute_result"
    }
   ],
   "source": [
    "scores"
   ]
  },
  {
   "cell_type": "markdown",
   "metadata": {},
   "source": [
    "# Detección de spam"
   ]
  },
  {
   "cell_type": "code",
   "execution_count": 207,
   "metadata": {},
   "outputs": [],
   "source": [
    "dir_spam = '.\\p6\\spam'\n",
    "dir_nospam = '.\\p6\\spamnot'"
   ]
  },
  {
   "cell_type": "code",
   "execution_count": 192,
   "metadata": {},
   "outputs": [],
   "source": [
    "import re\n",
    "import nltk\n",
    "import nltk.stem.porter\n",
    "import codecs\n",
    "\n",
    "def preProcess(email):\n",
    "    \n",
    "    hdrstart = email.find(\"\\n\\n\")\n",
    "    if hdrstart != -1:\n",
    "        email = email[hdrstart:]\n",
    "\n",
    "    email = email.lower()\n",
    "    # Strip html tags. replace with a space\n",
    "    email = re.sub('<[^<>]+>', ' ', email)\n",
    "    # Any numbers get replaced with the string 'number'\n",
    "    email = re.sub('[0-9]+', 'number', email)\n",
    "    # Anything starting with http or https:// replaced with 'httpaddr'\n",
    "    email = re.sub('(http|https)://[^\\s]*', 'httpaddr', email)\n",
    "    # Strings with \"@\" in the middle are considered emails --> 'emailaddr'\n",
    "    email = re.sub('[^\\s]+@[^\\s]+', 'emailaddr', email)\n",
    "    # The '$' sign gets replaced with 'dollar'\n",
    "    email = re.sub('[$]+', 'dollar', email)\n",
    "    return email\n",
    "\n",
    "\n",
    "def email2TokenList(raw_email):\n",
    "    \"\"\"\n",
    "    Function that takes in a raw email, preprocesses it, tokenizes it,\n",
    "    stems each word, and returns a list of tokens in the e-mail\n",
    "    \"\"\"\n",
    "\n",
    "    stemmer = nltk.stem.porter.PorterStemmer()\n",
    "    email = preProcess(raw_email)\n",
    "\n",
    "    # Split the e-mail into individual words (tokens) \n",
    "    tokens = re.split('[ \\@\\$\\/\\#\\.\\-\\:\\&\\*\\+\\=\\[\\]\\?\\!\\(\\)\\{\\}\\,\\'\\\"\\>\\_\\<\\;\\%]',\n",
    "                      email)\n",
    "\n",
    "    # Loop over each token and use a stemmer to shorten it\n",
    "    tokenlist = []\n",
    "    for token in tokens:\n",
    "\n",
    "        token = re.sub('[^a-zA-Z0-9]', '', token)\n",
    "        stemmed = stemmer.stem(token)\n",
    "        #Throw out empty tokens\n",
    "        if not len(token):\n",
    "            continue\n",
    "        # Store a list of all unique stemmed words\n",
    "        tokenlist.append(stemmed)\n",
    "\n",
    "    return tokenlist"
   ]
  },
  {
   "cell_type": "markdown",
   "metadata": {},
   "source": [
    "### Conjuntos entrenamiento"
   ]
  },
  {
   "cell_type": "code",
   "execution_count": 309,
   "metadata": {},
   "outputs": [],
   "source": [
    "def genera_spam_entrenamiento(): \n",
    "    spamt = []\n",
    "    for i in range(10,90):\n",
    "        filen = '00'+str(i)+'.txt'\n",
    "        email_contents = codecs.open(dir_spam+'/'+filen,'r',encoding='utf-8',errors='ignore').read()\n",
    "        email = email2TokenList(email_contents)\n",
    "        spamt.append(email)\n",
    "    return np.array(spamt, dtype = 'object')"
   ]
  },
  {
   "cell_type": "code",
   "execution_count": 310,
   "metadata": {},
   "outputs": [],
   "source": [
    "def genera_nospam_entrenamiento_facil():\n",
    "    nospamt = []\n",
    "    for i in range(10,90):\n",
    "        dir = dir_nospam +'\\easy_ham'\n",
    "        filen = '00'+str(i)+'.txt'\n",
    "        email_contents = codecs.open(dir+'/'+filen,'r',encoding='utf-8',errors='ignore').read()\n",
    "        email = email2TokenList(email_contents)\n",
    "        nospamt.append(email)\n",
    "    return np.array(nospamt, dtype = 'object')"
   ]
  },
  {
   "cell_type": "code",
   "execution_count": 311,
   "metadata": {},
   "outputs": [],
   "source": [
    "def genera_nospam_entrenamiento_tricky():\n",
    "    nospamt = []\n",
    "    for i in range(10,90):\n",
    "        dir = dir_nospam +'\\hard_ham'\n",
    "        filen = '00'+str(i)+'.txt'\n",
    "        email_contents = codecs.open(dir+'/'+filen,'r',encoding='utf-8',errors='ignore').read()\n",
    "        email = email2TokenList(email_contents)\n",
    "        nospamt.append(email)\n",
    "    return np.array(nospamt, dtype = 'object')"
   ]
  },
  {
   "cell_type": "code",
   "execution_count": 301,
   "metadata": {},
   "outputs": [],
   "source": [
    "spam_train_words = genera_spam_entrenamiento()\n",
    "nospam_train_facil_words = genera_nospam_entrenamiento_facil()\n",
    "nospam_train_tricky_words = genera_nospam_entrenamiento_tricky()"
   ]
  },
  {
   "cell_type": "code",
   "execution_count": 228,
   "metadata": {},
   "outputs": [],
   "source": [
    "def getVocabDict(reverse=False):\n",
    "    \"\"\"\n",
    "    Function to read in the supplied vocab list text file into a dictionary.\n",
    "    Dictionary key is the stemmed word, value is the index in the text file\n",
    "    If \"reverse\", the keys and values are switched.\n",
    "    \"\"\"\n",
    "    vocab_dict = {}\n",
    "    with open(\".\\p6/vocab.txt\") as f:\n",
    "        for line in f:\n",
    "            (val, key) = line.split()\n",
    "            if not reverse:\n",
    "                vocab_dict[key] = int(val)\n",
    "            else:\n",
    "                vocab_dict[int(val)] = key\n",
    "\n",
    "    return vocab_dict"
   ]
  },
  {
   "cell_type": "markdown",
   "metadata": {},
   "source": [
    "----------------"
   ]
  },
  {
   "cell_type": "code",
   "execution_count": 229,
   "metadata": {},
   "outputs": [],
   "source": [
    "dict = getVocabDict()"
   ]
  },
  {
   "cell_type": "markdown",
   "metadata": {},
   "source": [
    "--------------"
   ]
  },
  {
   "cell_type": "code",
   "execution_count": 294,
   "metadata": {},
   "outputs": [],
   "source": [
    "def vector_binario(lista_bolsas, diccionario):\n",
    "    claves = list(diccionario.keys())\n",
    "    lista = []\n",
    "    for i in range(len(lista_bolsas)):\n",
    "        #si lo hacemos al reves se pueden incluir palabras no existentes por el uso de 'in'\n",
    "        lista.append([1 if ele in lista_bolsas[i] else 0 for ele in claves])\n",
    "    return np.array(lista)"
   ]
  },
  {
   "cell_type": "code",
   "execution_count": 297,
   "metadata": {},
   "outputs": [],
   "source": [
    "spam_train = vector_binario(spam_train_words, dict)\n",
    "easy_nospam_train = vector_binario(nospam_train_facil_words, dict)\n",
    "tricky_nospam_train = vector_binario(nospam_train_tricky_words, dict)"
   ]
  },
  {
   "cell_type": "markdown",
   "metadata": {},
   "source": [
    "#### Ajuste SVM "
   ]
  },
  {
   "cell_type": "code",
   "execution_count": 390,
   "metadata": {},
   "outputs": [],
   "source": [
    "def visualize_boundary(X, y, svm, file_name): \n",
    "    x1 = np.linspace(X[:, 0].min(), X[:, 0].max(), 100) \n",
    "    x2 = np.linspace(X[:, 1].min(), X[:, 1].max(), 100) \n",
    "    x1, x2 = np.meshgrid(x1, x2) \n",
    "    yp = svm.predict(np.array([x1.ravel(), x2.ravel()]).T).reshape(x1.shape) \n",
    "    pos = (y == 1).ravel() \n",
    "    neg = (y == 0).ravel() \n",
    "    plt.figure() \n",
    "    plt.figure(figsize=(10,10))\n",
    "    plt.scatter(X[pos, 0], X[pos, 1], color='black', marker='+') \n",
    "    plt.scatter( \n",
    "    X[neg, 0], X[neg, 1], color='yellow', edgecolors='black', marker='o') \n",
    "    plt.contour(x1, x2, yp) \n",
    "    plt.savefig(file_name) \n",
    "    plt.close()"
   ]
  },
  {
   "cell_type": "code",
   "execution_count": null,
   "metadata": {},
   "outputs": [],
   "source": [
    "def visualize_boundary(X, y, svm, file_name): \n",
    "    Xs = []\n",
    "    for i in range(X.shape(1)):\n",
    "        Xs.append(np.linspace(X[:, i].min(), X[:, i].max(), 100))\n",
    "    x1, x2 = np.meshgrid(x1, x2) \n",
    "    yp = svm.predict(np.array([x1.ravel(), x2.ravel()]).T).reshape(x1.shape) \n",
    "    pos = (y == 1).ravel() \n",
    "    neg = (y == 0).ravel() \n",
    "    plt.figure() \n",
    "    plt.figure(figsize=(10,10))\n",
    "    plt.scatter(X[pos, 0], X[pos, 1], color='black', marker='+') \n",
    "    plt.scatter( \n",
    "    X[neg, 0], X[neg, 1], color='yellow', edgecolors='black', marker='o') \n",
    "    plt.contour(x1, x2, yp) \n",
    "    plt.savefig(file_name) \n",
    "    plt.close()"
   ]
  },
  {
   "cell_type": "code",
   "execution_count": 379,
   "metadata": {},
   "outputs": [],
   "source": [
    "X = np.concatenate([spam_train,easy_nospam_train])"
   ]
  },
  {
   "cell_type": "code",
   "execution_count": 319,
   "metadata": {},
   "outputs": [],
   "source": [
    "class_spam = np.ones(len(spam_train))"
   ]
  },
  {
   "cell_type": "code",
   "execution_count": 320,
   "metadata": {},
   "outputs": [],
   "source": [
    "class_nospam = np.zeros(len(easy_nospam_train))"
   ]
  },
  {
   "cell_type": "code",
   "execution_count": 380,
   "metadata": {},
   "outputs": [],
   "source": [
    "y = np.concatenate([class_spam,class_nospam])"
   ]
  },
  {
   "cell_type": "code",
   "execution_count": 385,
   "metadata": {},
   "outputs": [
    {
     "name": "stdout",
     "output_type": "stream",
     "text": [
      "(100, 100)\n",
      "(100, 100)\n",
      "[0. 0. 0. ... 0. 0. 0.]\n",
      "[0. 0. 0. ... 0. 0. 0.]\n",
      "[[0. 0.]\n",
      " [0. 0.]\n",
      " [0. 0.]\n",
      " ...\n",
      " [0. 0.]\n",
      " [0. 0.]\n",
      " [0. 0.]]\n"
     ]
    },
    {
     "ename": "ValueError",
     "evalue": "X.shape[1] = 2 should be equal to 1899, the number of features at training time",
     "output_type": "error",
     "traceback": [
      "\u001b[1;31m---------------------------------------------------------------------------\u001b[0m",
      "\u001b[1;31mValueError\u001b[0m                                Traceback (most recent call last)",
      "\u001b[1;32m<ipython-input-385-b1aca1db962d>\u001b[0m in \u001b[0;36m<module>\u001b[1;34m\u001b[0m\n\u001b[0;32m      1\u001b[0m \u001b[0msvm\u001b[0m \u001b[1;33m=\u001b[0m  \u001b[0mSVC\u001b[0m\u001b[1;33m(\u001b[0m\u001b[0mkernel\u001b[0m\u001b[1;33m=\u001b[0m\u001b[1;34m'linear'\u001b[0m\u001b[1;33m,\u001b[0m \u001b[0mC\u001b[0m\u001b[1;33m=\u001b[0m\u001b[1;36m1.0\u001b[0m\u001b[1;33m)\u001b[0m\u001b[1;33m\u001b[0m\u001b[1;33m\u001b[0m\u001b[0m\n\u001b[0;32m      2\u001b[0m \u001b[0msvm\u001b[0m\u001b[1;33m.\u001b[0m\u001b[0mfit\u001b[0m\u001b[1;33m(\u001b[0m\u001b[0mX\u001b[0m\u001b[1;33m,\u001b[0m\u001b[0my\u001b[0m\u001b[1;33m.\u001b[0m\u001b[0mravel\u001b[0m\u001b[1;33m(\u001b[0m\u001b[1;33m)\u001b[0m\u001b[1;33m)\u001b[0m\u001b[1;33m\u001b[0m\u001b[1;33m\u001b[0m\u001b[0m\n\u001b[1;32m----> 3\u001b[1;33m \u001b[0mvisualize_boundary\u001b[0m\u001b[1;33m(\u001b[0m\u001b[0mX\u001b[0m\u001b[1;33m,\u001b[0m\u001b[0my\u001b[0m\u001b[1;33m,\u001b[0m\u001b[0msvm\u001b[0m\u001b[1;33m,\u001b[0m \u001b[1;34m\"p6FigA.png\"\u001b[0m\u001b[1;33m)\u001b[0m\u001b[1;33m\u001b[0m\u001b[1;33m\u001b[0m\u001b[0m\n\u001b[0m",
      "\u001b[1;32m<ipython-input-384-1ad60c9bdfe4>\u001b[0m in \u001b[0;36mvisualize_boundary\u001b[1;34m(X, y, svm, file_name)\u001b[0m\n\u001b[0;32m      8\u001b[0m     \u001b[0mprint\u001b[0m\u001b[1;33m(\u001b[0m\u001b[0mx2\u001b[0m\u001b[1;33m.\u001b[0m\u001b[0mravel\u001b[0m\u001b[1;33m(\u001b[0m\u001b[1;33m)\u001b[0m\u001b[1;33m)\u001b[0m\u001b[1;33m\u001b[0m\u001b[1;33m\u001b[0m\u001b[0m\n\u001b[0;32m      9\u001b[0m     \u001b[0mprint\u001b[0m\u001b[1;33m(\u001b[0m\u001b[0mnp\u001b[0m\u001b[1;33m.\u001b[0m\u001b[0marray\u001b[0m\u001b[1;33m(\u001b[0m\u001b[1;33m[\u001b[0m\u001b[0mx1\u001b[0m\u001b[1;33m.\u001b[0m\u001b[0mravel\u001b[0m\u001b[1;33m(\u001b[0m\u001b[1;33m)\u001b[0m\u001b[1;33m,\u001b[0m \u001b[0mx2\u001b[0m\u001b[1;33m.\u001b[0m\u001b[0mravel\u001b[0m\u001b[1;33m(\u001b[0m\u001b[1;33m)\u001b[0m\u001b[1;33m]\u001b[0m\u001b[1;33m)\u001b[0m\u001b[1;33m.\u001b[0m\u001b[0mT\u001b[0m\u001b[1;33m)\u001b[0m\u001b[1;33m\u001b[0m\u001b[1;33m\u001b[0m\u001b[0m\n\u001b[1;32m---> 10\u001b[1;33m     \u001b[0myp\u001b[0m \u001b[1;33m=\u001b[0m \u001b[0msvm\u001b[0m\u001b[1;33m.\u001b[0m\u001b[0mpredict\u001b[0m\u001b[1;33m(\u001b[0m\u001b[0mnp\u001b[0m\u001b[1;33m.\u001b[0m\u001b[0marray\u001b[0m\u001b[1;33m(\u001b[0m\u001b[1;33m[\u001b[0m\u001b[0mx1\u001b[0m\u001b[1;33m.\u001b[0m\u001b[0mravel\u001b[0m\u001b[1;33m(\u001b[0m\u001b[1;33m)\u001b[0m\u001b[1;33m,\u001b[0m \u001b[0mx2\u001b[0m\u001b[1;33m.\u001b[0m\u001b[0mravel\u001b[0m\u001b[1;33m(\u001b[0m\u001b[1;33m)\u001b[0m\u001b[1;33m]\u001b[0m\u001b[1;33m)\u001b[0m\u001b[1;33m.\u001b[0m\u001b[0mT\u001b[0m\u001b[1;33m)\u001b[0m\u001b[1;33m.\u001b[0m\u001b[0mreshape\u001b[0m\u001b[1;33m(\u001b[0m\u001b[0mx1\u001b[0m\u001b[1;33m.\u001b[0m\u001b[0mshape\u001b[0m\u001b[1;33m)\u001b[0m\u001b[1;33m\u001b[0m\u001b[1;33m\u001b[0m\u001b[0m\n\u001b[0m\u001b[0;32m     11\u001b[0m     \u001b[0mpos\u001b[0m \u001b[1;33m=\u001b[0m \u001b[1;33m(\u001b[0m\u001b[0my\u001b[0m \u001b[1;33m==\u001b[0m \u001b[1;36m1\u001b[0m\u001b[1;33m)\u001b[0m\u001b[1;33m.\u001b[0m\u001b[0mravel\u001b[0m\u001b[1;33m(\u001b[0m\u001b[1;33m)\u001b[0m\u001b[1;33m\u001b[0m\u001b[1;33m\u001b[0m\u001b[0m\n\u001b[0;32m     12\u001b[0m     \u001b[0mneg\u001b[0m \u001b[1;33m=\u001b[0m \u001b[1;33m(\u001b[0m\u001b[0my\u001b[0m \u001b[1;33m==\u001b[0m \u001b[1;36m0\u001b[0m\u001b[1;33m)\u001b[0m\u001b[1;33m.\u001b[0m\u001b[0mravel\u001b[0m\u001b[1;33m(\u001b[0m\u001b[1;33m)\u001b[0m\u001b[1;33m\u001b[0m\u001b[1;33m\u001b[0m\u001b[0m\n",
      "\u001b[1;32mD:\\anaconda\\lib\\site-packages\\sklearn\\svm\\_base.py\u001b[0m in \u001b[0;36mpredict\u001b[1;34m(self, X)\u001b[0m\n\u001b[0;32m    613\u001b[0m             \u001b[0my\u001b[0m \u001b[1;33m=\u001b[0m \u001b[0mnp\u001b[0m\u001b[1;33m.\u001b[0m\u001b[0margmax\u001b[0m\u001b[1;33m(\u001b[0m\u001b[0mself\u001b[0m\u001b[1;33m.\u001b[0m\u001b[0mdecision_function\u001b[0m\u001b[1;33m(\u001b[0m\u001b[0mX\u001b[0m\u001b[1;33m)\u001b[0m\u001b[1;33m,\u001b[0m \u001b[0maxis\u001b[0m\u001b[1;33m=\u001b[0m\u001b[1;36m1\u001b[0m\u001b[1;33m)\u001b[0m\u001b[1;33m\u001b[0m\u001b[1;33m\u001b[0m\u001b[0m\n\u001b[0;32m    614\u001b[0m         \u001b[1;32melse\u001b[0m\u001b[1;33m:\u001b[0m\u001b[1;33m\u001b[0m\u001b[1;33m\u001b[0m\u001b[0m\n\u001b[1;32m--> 615\u001b[1;33m             \u001b[0my\u001b[0m \u001b[1;33m=\u001b[0m \u001b[0msuper\u001b[0m\u001b[1;33m(\u001b[0m\u001b[1;33m)\u001b[0m\u001b[1;33m.\u001b[0m\u001b[0mpredict\u001b[0m\u001b[1;33m(\u001b[0m\u001b[0mX\u001b[0m\u001b[1;33m)\u001b[0m\u001b[1;33m\u001b[0m\u001b[1;33m\u001b[0m\u001b[0m\n\u001b[0m\u001b[0;32m    616\u001b[0m         \u001b[1;32mreturn\u001b[0m \u001b[0mself\u001b[0m\u001b[1;33m.\u001b[0m\u001b[0mclasses_\u001b[0m\u001b[1;33m.\u001b[0m\u001b[0mtake\u001b[0m\u001b[1;33m(\u001b[0m\u001b[0mnp\u001b[0m\u001b[1;33m.\u001b[0m\u001b[0masarray\u001b[0m\u001b[1;33m(\u001b[0m\u001b[0my\u001b[0m\u001b[1;33m,\u001b[0m \u001b[0mdtype\u001b[0m\u001b[1;33m=\u001b[0m\u001b[0mnp\u001b[0m\u001b[1;33m.\u001b[0m\u001b[0mintp\u001b[0m\u001b[1;33m)\u001b[0m\u001b[1;33m)\u001b[0m\u001b[1;33m\u001b[0m\u001b[1;33m\u001b[0m\u001b[0m\n\u001b[0;32m    617\u001b[0m \u001b[1;33m\u001b[0m\u001b[0m\n",
      "\u001b[1;32mD:\\anaconda\\lib\\site-packages\\sklearn\\svm\\_base.py\u001b[0m in \u001b[0;36mpredict\u001b[1;34m(self, X)\u001b[0m\n\u001b[0;32m    331\u001b[0m         \u001b[0my_pred\u001b[0m \u001b[1;33m:\u001b[0m \u001b[0mndarray\u001b[0m \u001b[0mof\u001b[0m \u001b[0mshape\u001b[0m \u001b[1;33m(\u001b[0m\u001b[0mn_samples\u001b[0m\u001b[1;33m,\u001b[0m\u001b[1;33m)\u001b[0m\u001b[1;33m\u001b[0m\u001b[1;33m\u001b[0m\u001b[0m\n\u001b[0;32m    332\u001b[0m         \"\"\"\n\u001b[1;32m--> 333\u001b[1;33m         \u001b[0mX\u001b[0m \u001b[1;33m=\u001b[0m \u001b[0mself\u001b[0m\u001b[1;33m.\u001b[0m\u001b[0m_validate_for_predict\u001b[0m\u001b[1;33m(\u001b[0m\u001b[0mX\u001b[0m\u001b[1;33m)\u001b[0m\u001b[1;33m\u001b[0m\u001b[1;33m\u001b[0m\u001b[0m\n\u001b[0m\u001b[0;32m    334\u001b[0m         \u001b[0mpredict\u001b[0m \u001b[1;33m=\u001b[0m \u001b[0mself\u001b[0m\u001b[1;33m.\u001b[0m\u001b[0m_sparse_predict\u001b[0m \u001b[1;32mif\u001b[0m \u001b[0mself\u001b[0m\u001b[1;33m.\u001b[0m\u001b[0m_sparse\u001b[0m \u001b[1;32melse\u001b[0m \u001b[0mself\u001b[0m\u001b[1;33m.\u001b[0m\u001b[0m_dense_predict\u001b[0m\u001b[1;33m\u001b[0m\u001b[1;33m\u001b[0m\u001b[0m\n\u001b[0;32m    335\u001b[0m         \u001b[1;32mreturn\u001b[0m \u001b[0mpredict\u001b[0m\u001b[1;33m(\u001b[0m\u001b[0mX\u001b[0m\u001b[1;33m)\u001b[0m\u001b[1;33m\u001b[0m\u001b[1;33m\u001b[0m\u001b[0m\n",
      "\u001b[1;32mD:\\anaconda\\lib\\site-packages\\sklearn\\svm\\_base.py\u001b[0m in \u001b[0;36m_validate_for_predict\u001b[1;34m(self, X)\u001b[0m\n\u001b[0;32m    482\u001b[0m                                  (X.shape[1], self.shape_fit_[0]))\n\u001b[0;32m    483\u001b[0m         \u001b[1;32melif\u001b[0m \u001b[1;32mnot\u001b[0m \u001b[0mcallable\u001b[0m\u001b[1;33m(\u001b[0m\u001b[0mself\u001b[0m\u001b[1;33m.\u001b[0m\u001b[0mkernel\u001b[0m\u001b[1;33m)\u001b[0m \u001b[1;32mand\u001b[0m \u001b[0mX\u001b[0m\u001b[1;33m.\u001b[0m\u001b[0mshape\u001b[0m\u001b[1;33m[\u001b[0m\u001b[1;36m1\u001b[0m\u001b[1;33m]\u001b[0m \u001b[1;33m!=\u001b[0m \u001b[0mself\u001b[0m\u001b[1;33m.\u001b[0m\u001b[0mshape_fit_\u001b[0m\u001b[1;33m[\u001b[0m\u001b[1;36m1\u001b[0m\u001b[1;33m]\u001b[0m\u001b[1;33m:\u001b[0m\u001b[1;33m\u001b[0m\u001b[1;33m\u001b[0m\u001b[0m\n\u001b[1;32m--> 484\u001b[1;33m             raise ValueError(\"X.shape[1] = %d should be equal to %d, \"\n\u001b[0m\u001b[0;32m    485\u001b[0m                              \u001b[1;34m\"the number of features at training time\"\u001b[0m \u001b[1;33m%\u001b[0m\u001b[1;33m\u001b[0m\u001b[1;33m\u001b[0m\u001b[0m\n\u001b[0;32m    486\u001b[0m                              (X.shape[1], self.shape_fit_[1]))\n",
      "\u001b[1;31mValueError\u001b[0m: X.shape[1] = 2 should be equal to 1899, the number of features at training time"
     ]
    }
   ],
   "source": [
    "svm =  SVC(kernel='linear', C=1.0)\n",
    "svm.fit(X,y.ravel())\n",
    "visualize_boundary(X,y,svm, \"p6FigA.png\")"
   ]
  },
  {
   "cell_type": "code",
   "execution_count": 356,
   "metadata": {},
   "outputs": [
    {
     "data": {
      "text/plain": [
       "array([1., 1., 1., 1., 1., 1., 1., 1., 1., 1., 1., 1., 1., 1., 1., 1., 1.,\n",
       "       1., 1., 1., 1., 1., 1., 1., 1., 1., 1., 1., 1., 1., 1., 1., 1., 1.,\n",
       "       1., 1., 1., 1., 1., 1., 1., 1., 1., 1., 1., 1., 1., 1., 1., 1., 1.,\n",
       "       1., 1., 1., 1., 1., 1., 1., 1., 1., 1., 1., 1., 1., 1., 1., 1., 1.,\n",
       "       1., 1., 1., 1., 1., 1., 1., 1., 1., 1., 1., 1., 0., 0., 0., 0., 0.,\n",
       "       0., 0., 0., 0., 0., 0., 0., 0., 0., 0., 0., 0., 0., 0., 0., 0., 0.,\n",
       "       0., 0., 0., 0., 0., 0., 0., 0., 0., 0., 0., 0., 0., 0., 0., 0., 0.,\n",
       "       0., 0., 0., 0., 0., 0., 0., 0., 0., 0., 0., 0., 0., 0., 0., 0., 0.,\n",
       "       0., 0., 0., 0., 0., 0., 0., 0., 0., 0., 0., 0., 0., 0., 0., 0., 0.,\n",
       "       0., 0., 0., 0., 0., 0., 0.])"
      ]
     },
     "execution_count": 356,
     "metadata": {},
     "output_type": "execute_result"
    }
   ],
   "source": [
    "y"
   ]
  },
  {
   "cell_type": "markdown",
   "metadata": {},
   "source": [
    "### Conjuntos validación"
   ]
  },
  {
   "cell_type": "code",
   "execution_count": 306,
   "metadata": {},
   "outputs": [],
   "source": [
    "def genera_spam_val(): \n",
    "    spamt = []\n",
    "    for i in range(100,200):\n",
    "        filen = '0'+str(i)+'.txt'\n",
    "        email_contents = codecs.open(dir_spam+'/'+filen,'r',encoding='utf-8',errors='ignore').read()\n",
    "        email = email2TokenList(email_contents)\n",
    "        spamt.append(email)\n",
    "    return np.array(spamt, dtype = 'object')"
   ]
  },
  {
   "cell_type": "code",
   "execution_count": 307,
   "metadata": {},
   "outputs": [],
   "source": [
    "def genera_nospam_val_facil():\n",
    "    nospamt = []\n",
    "    for i in range(100,200):\n",
    "        dir = dir_nospam +'\\easy_ham'\n",
    "        filen = '0'+str(i)+'.txt'\n",
    "        email_contents = codecs.open(dir+'/'+filen,'r',encoding='utf-8',errors='ignore').read()\n",
    "        email = email2TokenList(email_contents)\n",
    "        nospamt.append(email)\n",
    "    return np.array(nospamt, dtype = 'object')"
   ]
  },
  {
   "cell_type": "code",
   "execution_count": 312,
   "metadata": {},
   "outputs": [],
   "source": [
    "def genera_nospam_val_tricky():\n",
    "    nospamt = []\n",
    "    for i in range(100,200):\n",
    "        dir = dir_nospam +'\\hard_ham'\n",
    "        filen = '0'+str(i)+'.txt'\n",
    "        email_contents = codecs.open(dir+'/'+filen,'r',encoding='utf-8',errors='ignore').read()\n",
    "        email = email2TokenList(email_contents)\n",
    "        nospamt.append(email)\n",
    "    return np.array(nospamt, dtype = 'object')"
   ]
  },
  {
   "cell_type": "code",
   "execution_count": 313,
   "metadata": {},
   "outputs": [],
   "source": [
    "spam_val_words = genera_spam_entrenamiento()\n",
    "nospam_val_facil_words = genera_nospam_entrenamiento_facil()\n",
    "nospam_val_tricky_words = genera_nospam_entrenamiento_tricky()"
   ]
  },
  {
   "cell_type": "code",
   "execution_count": null,
   "metadata": {},
   "outputs": [],
   "source": []
  }
 ],
 "metadata": {
  "kernelspec": {
   "display_name": "Python 3",
   "language": "python",
   "name": "python3"
  },
  "language_info": {
   "codemirror_mode": {
    "name": "ipython",
    "version": 3
   },
   "file_extension": ".py",
   "mimetype": "text/x-python",
   "name": "python",
   "nbconvert_exporter": "python",
   "pygments_lexer": "ipython3",
   "version": "3.8.5"
  }
 },
 "nbformat": 4,
 "nbformat_minor": 4
}
