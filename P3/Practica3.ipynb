{
 "cells": [
  {
   "cell_type": "code",
   "execution_count": 1,
   "metadata": {},
   "outputs": [],
   "source": [
    "import numpy as np\n",
    "import scipy . optimize as opt\n",
    "import math\n",
    "import matplotlib.pyplot as plt\n",
    "from pandas.io.parsers import read_csv\n",
    "from matplotlib import cm\n",
    "from matplotlib.ticker import LinearLocator, FormatStrFormatter\n",
    "from mpl_toolkits.mplot3d import Axes3D\n",
    "from sklearn.preprocessing import PolynomialFeatures\n",
    "from scipy.io import loadmat\n",
    "%matplotlib inline"
   ]
  },
  {
   "cell_type": "markdown",
   "metadata": {},
   "source": [
    "# Visualizacion de datos"
   ]
  },
  {
   "cell_type": "code",
   "execution_count": 2,
   "metadata": {},
   "outputs": [],
   "source": [
    "data1 = loadmat(\".\\p3\\ex3data1.mat\") "
   ]
  },
  {
   "cell_type": "code",
   "execution_count": 3,
   "metadata": {},
   "outputs": [],
   "source": [
    "y = data1['y']\n",
    "X = data1['X']"
   ]
  },
  {
   "cell_type": "code",
   "execution_count": 15,
   "metadata": {},
   "outputs": [
    {
     "data": {
      "image/png": "[encoded data removed]",
      "text/plain": [
       "<Figure size 432x288 with 1 Axes>"
      ]
     },
     "metadata": {
      "needs_background": "light"
     },
     "output_type": "display_data"
    }
   ],
   "source": [
    "sample = np.random.choice(X.shape[0],10)\n",
    "plt.imshow(X[sample,:].reshape(-1,20).T)\n",
    "plt.axis('off')\n",
    "plt.savefig('randomnums.png')"
   ]
  },
  {
   "cell_type": "markdown",
   "metadata": {},
   "source": [
    "# Clasificacion 1vAll"
   ]
  },
  {
   "cell_type": "code",
   "execution_count": 4,
   "metadata": {},
   "outputs": [],
   "source": [
    "def sigmoide(z):\n",
    "    \"\"\"\n",
    "    Devuelve la función sigmoide dado un valor\n",
    "    Parámetros:\n",
    "    z    -- numero, array o matriz\n",
    "    \"\"\"\n",
    "    return 1/(1 + np.exp(-z))\n",
    "\n",
    "def coste_regularizado(thetas,X,Y,lambda_valor):\n",
    "    \"\"\"\n",
    "    Devuelve el valor de la función de coste para un caso de regresión multivariable\n",
    "    Parámetros:\n",
    "    thetas     -- valores de los parámetros de ajuste de la función\n",
    "    X          -- valores de las variables\n",
    "    Y          -- valores de las etiquetas\n",
    "    \"\"\"\n",
    "    H = sigmoide(np.matmul(X, np.transpose(thetas)))\n",
    "    sumatorio_reg = np.sum(thetas[1:]**2)\n",
    "    coste = (- 1 / (len(X))) * np.sum(Y * np.log(H) + (1 - Y) * np.log(1 - H + 1e-6)) + (lambda_valor * sumatorio_reg/ 2*len(X))\n",
    "    return coste\n",
    "   \n",
    "def gradiente_regularizado(thetas,X,Y,lambda_valor):\n",
    "    \"\"\"\n",
    "    Devuelve el valor de los parámetros de ajuste \n",
    "    Parámetros:\n",
    "    thetas     -- valores de los parámetros de ajuste de la función\n",
    "    X          -- valores de las variables\n",
    "    Y          -- valores de las etiquetas\n",
    "    \"\"\"\n",
    "    trans = np.transpose(X)\n",
    "    matriz1 = sigmoide(np.matmul(X,thetas))\n",
    "    valores_thetas = (1 / len(X)) * (np.matmul(trans,(matriz1-Y)))\n",
    "    valores_thetas_regularizados = np.concatenate([[valores_thetas[0]], valores_thetas[1:] * lambda_valor/len(X)])\n",
    "    return valores_thetas"
   ]
  },
  {
   "cell_type": "code",
   "execution_count": 25,
   "metadata": {},
   "outputs": [],
   "source": [
    "def oneVsAll(X, y, num_etiquetas, reg):\n",
    "    \"\"\"\n",
    "    oneVsAll entrena por regresión log. varios clasificadores y devuelve el resultado en una matriz, donde \n",
    "    la fila i-ésima corresponde al clasificador de la etiqueta i-ésima\n",
    "    Parámetros:\n",
    "    X             -- matriz de datos\n",
    "    y             -- vector de clasificación de los datos\n",
    "    num_etiquetas -- número de etiquetas en las que clasificar los datos\n",
    "    reg           -- término de regularización\n",
    "    \"\"\"\n",
    "    X1 = np.hstack([np.ones([X.shape[0],1]),X])\n",
    "    thetas = np.zeros(X1.shape[1])\n",
    "    mat_1vA = np.empty([num_etiquetas,X.shape[1]+1])\n",
    "    flattened_y = np.ravel(y)\n",
    "    etiquetas = np.unique(y)\n",
    "    for i in np.arange(num_etiquetas):\n",
    "        ys = (flattened_y == etiquetas[i]) * 1\n",
    "        result = opt.fmin_tnc(func=coste_regularizado, x0=thetas, fprime=gradiente_regularizado, args=(X1, ys, reg))\n",
    "        theta_opt = result[0]\n",
    "        mat_1vA[i] = theta_opt\n",
    "        #np.stack((thetas, var), axis = 0)\n",
    "    return mat_1vA"
   ]
  },
  {
   "cell_type": "code",
   "execution_count": 26,
   "metadata": {},
   "outputs": [],
   "source": [
    "matriz_thetas = oneVsAll(X, y, len(np.unique(y)), 0.1)"
   ]
  },
  {
   "cell_type": "code",
   "execution_count": 137,
   "metadata": {},
   "outputs": [
    {
     "data": {
      "text/plain": [
       "401"
      ]
     },
     "execution_count": 137,
     "metadata": {},
     "output_type": "execute_result"
    }
   ],
   "source": [
    "len(matriz_thetas[0])"
   ]
  },
  {
   "cell_type": "code",
   "execution_count": 138,
   "metadata": {},
   "outputs": [
    {
     "data": {
      "text/plain": [
       "401"
      ]
     },
     "execution_count": 138,
     "metadata": {},
     "output_type": "execute_result"
    }
   ],
   "source": [
    "matriz_thetas.shape[1]"
   ]
  },
  {
   "cell_type": "code",
   "execution_count": 27,
   "metadata": {},
   "outputs": [
    {
     "data": {
      "text/plain": [
       "array([[-5.92117861e-04,  0.00000000e+00,  0.00000000e+00, ...,\n",
       "        -3.59751196e-09,  3.71188760e-10,  0.00000000e+00],\n",
       "       [-7.17089356e-04,  0.00000000e+00,  0.00000000e+00, ...,\n",
       "         5.81253416e-08, -4.96279058e-09,  0.00000000e+00],\n",
       "       [-6.71697208e-04,  0.00000000e+00,  0.00000000e+00, ...,\n",
       "        -6.09619041e-09,  3.72062632e-10,  0.00000000e+00],\n",
       "       ...,\n",
       "       [-5.60896094e-04,  0.00000000e+00,  0.00000000e+00, ...,\n",
       "        -5.54041234e-09,  3.43636724e-10,  0.00000000e+00],\n",
       "       [-6.12167805e-04,  0.00000000e+00,  0.00000000e+00, ...,\n",
       "        -6.47890506e-09,  4.25007123e-10,  0.00000000e+00],\n",
       "       [-1.06138865e-03,  0.00000000e+00,  0.00000000e+00, ...,\n",
       "        -5.60148832e-08,  1.82053072e-09,  0.00000000e+00]])"
      ]
     },
     "execution_count": 27,
     "metadata": {},
     "output_type": "execute_result"
    }
   ],
   "source": [
    "matriz_thetas"
   ]
  },
  {
   "cell_type": "code",
   "execution_count": 152,
   "metadata": {},
   "outputs": [
    {
     "data": {
      "text/plain": [
       "9"
      ]
     },
     "execution_count": 152,
     "metadata": {},
     "output_type": "execute_result"
    }
   ],
   "source": [
    "np.argmax(np.dot(matriz_thetas,np.insert(X[0],0,1)))"
   ]
  },
  {
   "cell_type": "code",
   "execution_count": 6,
   "metadata": {},
   "outputs": [],
   "source": [
    "def precision_1vA(mat_valores, clases, mat_thetas, ejemplos):\n",
    "    indice = np.random.randint(5000,size=ejemplos)\n",
    "    res = np.empty(ejemplos)\n",
    "    clas = np.empty(ejemplos)\n",
    "    for i, pos in enumerate(indice):\n",
    "        caso = np.insert(mat_valores[pos],0,1)\n",
    "        res[i]=np.argmax(np.dot(mat_thetas, caso))\n",
    "        clas[i]=clases[pos]-1\n",
    "    preci = sum(res==clas)/ejemplos\n",
    "    return res, clas, preci"
   ]
  },
  {
   "cell_type": "code",
   "execution_count": 32,
   "metadata": {},
   "outputs": [],
   "source": [
    "presvA = np.empty(100)\n",
    "for i in np.arange(100):\n",
    "    avA,bvA,cvA = precision_1vA(X,y,matriz_thetas, 1000)\n",
    "    presvA[i] = cvA"
   ]
  },
  {
   "cell_type": "code",
   "execution_count": 33,
   "metadata": {},
   "outputs": [
    {
     "data": {
      "text/plain": [
       "array([0.768, 0.768, 0.759, 0.749, 0.762, 0.758, 0.758, 0.763, 0.752,\n",
       "       0.771, 0.765, 0.77 , 0.771, 0.774, 0.78 , 0.772, 0.778, 0.768,\n",
       "       0.749, 0.763, 0.773, 0.762, 0.767, 0.771, 0.769, 0.779, 0.765,\n",
       "       0.782, 0.773, 0.778, 0.767, 0.752, 0.777, 0.749, 0.755, 0.786,\n",
       "       0.767, 0.776, 0.763, 0.777, 0.764, 0.774, 0.767, 0.776, 0.782,\n",
       "       0.776, 0.746, 0.77 , 0.764, 0.766, 0.76 , 0.786, 0.769, 0.77 ,\n",
       "       0.742, 0.781, 0.798, 0.766, 0.733, 0.765, 0.759, 0.755, 0.782,\n",
       "       0.777, 0.782, 0.763, 0.763, 0.777, 0.741, 0.768, 0.736, 0.78 ,\n",
       "       0.763, 0.772, 0.775, 0.746, 0.755, 0.792, 0.776, 0.779, 0.775,\n",
       "       0.779, 0.761, 0.78 , 0.758, 0.754, 0.749, 0.776, 0.768, 0.765,\n",
       "       0.755, 0.775, 0.758, 0.766, 0.76 , 0.77 , 0.782, 0.759, 0.767,\n",
       "       0.759])"
      ]
     },
     "execution_count": 33,
     "metadata": {},
     "output_type": "execute_result"
    }
   ],
   "source": [
    "presvA"
   ]
  },
  {
   "cell_type": "code",
   "execution_count": 34,
   "metadata": {},
   "outputs": [
    {
     "data": {
      "text/plain": [
       "0.7669800000000001"
      ]
     },
     "execution_count": 34,
     "metadata": {},
     "output_type": "execute_result"
    }
   ],
   "source": [
    "sum(presvA)/len(presvA)"
   ]
  },
  {
   "cell_type": "code",
   "execution_count": 147,
   "metadata": {},
   "outputs": [
    {
     "ename": "ValueError",
     "evalue": "shapes (401,20) and (10,401) not aligned: 20 (dim 1) != 10 (dim 0)",
     "output_type": "error",
     "traceback": [
      "\u001b[1;31m---------------------------------------------------------------------------\u001b[0m",
      "\u001b[1;31mValueError\u001b[0m                                Traceback (most recent call last)",
      "\u001b[1;32m<ipython-input-147-92648d667a89>\u001b[0m in \u001b[0;36m<module>\u001b[1;34m\u001b[0m\n\u001b[1;32m----> 1\u001b[1;33m \u001b[0mh\u001b[0m\u001b[1;33m(\u001b[0m\u001b[0mmatriz_thetas\u001b[0m\u001b[1;33m,\u001b[0m\u001b[0mX1\u001b[0m\u001b[1;33m[\u001b[0m\u001b[1;36m0\u001b[0m\u001b[1;33m:\u001b[0m\u001b[1;36m20\u001b[0m\u001b[1;33m]\u001b[0m\u001b[1;33m)\u001b[0m\u001b[1;33m\u001b[0m\u001b[1;33m\u001b[0m\u001b[0m\n\u001b[0m",
      "\u001b[1;32m<ipython-input-144-42d3a0dc83f5>\u001b[0m in \u001b[0;36mh\u001b[1;34m(theta, X)\u001b[0m\n\u001b[0;32m      6\u001b[0m     \u001b[0mv\u001b[0m \u001b[1;33m=\u001b[0m \u001b[0mnp\u001b[0m\u001b[1;33m.\u001b[0m\u001b[0mempty\u001b[0m\u001b[1;33m(\u001b[0m\u001b[1;33m[\u001b[0m\u001b[0mtheta\u001b[0m\u001b[1;33m.\u001b[0m\u001b[0mshape\u001b[0m\u001b[1;33m[\u001b[0m\u001b[1;36m0\u001b[0m\u001b[1;33m]\u001b[0m\u001b[1;33m,\u001b[0m\u001b[0mX\u001b[0m\u001b[1;33m.\u001b[0m\u001b[0mshape\u001b[0m\u001b[1;33m[\u001b[0m\u001b[1;36m0\u001b[0m\u001b[1;33m]\u001b[0m\u001b[1;33m]\u001b[0m\u001b[1;33m)\u001b[0m\u001b[1;33m\u001b[0m\u001b[1;33m\u001b[0m\u001b[0m\n\u001b[0;32m      7\u001b[0m     \u001b[1;32mfor\u001b[0m \u001b[0mi\u001b[0m \u001b[1;32min\u001b[0m \u001b[0mnp\u001b[0m\u001b[1;33m.\u001b[0m\u001b[0marange\u001b[0m\u001b[1;33m(\u001b[0m\u001b[0mmatriz_thetas\u001b[0m\u001b[1;33m.\u001b[0m\u001b[0mshape\u001b[0m\u001b[1;33m[\u001b[0m\u001b[1;36m0\u001b[0m\u001b[1;33m]\u001b[0m\u001b[1;33m)\u001b[0m\u001b[1;33m:\u001b[0m\u001b[1;33m\u001b[0m\u001b[1;33m\u001b[0m\u001b[0m\n\u001b[1;32m----> 8\u001b[1;33m         \u001b[0mv\u001b[0m\u001b[1;33m[\u001b[0m\u001b[0mi\u001b[0m\u001b[1;33m]\u001b[0m \u001b[1;33m=\u001b[0m \u001b[0mnp\u001b[0m\u001b[1;33m.\u001b[0m\u001b[0msum\u001b[0m\u001b[1;33m(\u001b[0m\u001b[0msigmoide\u001b[0m\u001b[1;33m(\u001b[0m\u001b[0mnp\u001b[0m\u001b[1;33m.\u001b[0m\u001b[0mdot\u001b[0m\u001b[1;33m(\u001b[0m\u001b[0mnp\u001b[0m\u001b[1;33m.\u001b[0m\u001b[0mtranspose\u001b[0m\u001b[1;33m(\u001b[0m\u001b[0mX\u001b[0m\u001b[1;33m)\u001b[0m\u001b[1;33m,\u001b[0m\u001b[0mtheta\u001b[0m\u001b[1;33m)\u001b[0m\u001b[1;33m)\u001b[0m\u001b[1;33m)\u001b[0m\u001b[1;33m\u001b[0m\u001b[1;33m\u001b[0m\u001b[0m\n\u001b[0m\u001b[0;32m      9\u001b[0m     \u001b[1;32mreturn\u001b[0m \u001b[0mv\u001b[0m\u001b[1;33m\u001b[0m\u001b[1;33m\u001b[0m\u001b[0m\n",
      "\u001b[1;32m<__array_function__ internals>\u001b[0m in \u001b[0;36mdot\u001b[1;34m(*args, **kwargs)\u001b[0m\n",
      "\u001b[1;31mValueError\u001b[0m: shapes (401,20) and (10,401) not aligned: 20 (dim 1) != 10 (dim 0)"
     ]
    }
   ],
   "source": [
    "h(matriz_thetas,X1[0:20])"
   ]
  },
  {
   "cell_type": "code",
   "execution_count": 140,
   "metadata": {},
   "outputs": [
    {
     "data": {
      "text/plain": [
       "20"
      ]
     },
     "execution_count": 140,
     "metadata": {},
     "output_type": "execute_result"
    }
   ],
   "source": [
    "X1[0:20].shape[0]"
   ]
  },
  {
   "cell_type": "markdown",
   "metadata": {},
   "source": [
    "# Red neuronal"
   ]
  },
  {
   "cell_type": "code",
   "execution_count": 7,
   "metadata": {},
   "outputs": [],
   "source": [
    "weights = loadmat('.\\p3\\ex3weights.mat')\n",
    "theta1, theta2 = weights['Theta1'], weights['Theta2']"
   ]
  },
  {
   "cell_type": "code",
   "execution_count": 21,
   "metadata": {
    "scrolled": true
   },
   "outputs": [
    {
     "data": {
      "text/plain": [
       "401"
      ]
     },
     "execution_count": 21,
     "metadata": {},
     "output_type": "execute_result"
    }
   ],
   "source": [
    "theta1[0].shape[0]"
   ]
  },
  {
   "cell_type": "code",
   "execution_count": 22,
   "metadata": {},
   "outputs": [
    {
     "data": {
      "text/plain": [
       "26"
      ]
     },
     "execution_count": 22,
     "metadata": {},
     "output_type": "execute_result"
    }
   ],
   "source": [
    "theta2[0].shape[0]"
   ]
  },
  {
   "cell_type": "code",
   "execution_count": 39,
   "metadata": {},
   "outputs": [],
   "source": [
    "def propagacion_hacia_delante(x,matriz1,matriz2):\n",
    "    x1 = np.insert(x,0,1)\n",
    "    z1 = sigmoide(np.dot(matriz1,x1)) \n",
    "    a1 = np.insert(z1, 0, 1)\n",
    "    z2 = sigmoide(np.dot(matriz2,a1))\n",
    "    return z2"
   ]
  },
  {
   "cell_type": "code",
   "execution_count": 27,
   "metadata": {},
   "outputs": [
    {
     "name": "stdout",
     "output_type": "stream",
     "text": [
      "[1.  0.5 0.5 0.5 0.5 0.5 0.5 0.5 0.5 0.5 0.5 0.5 0.5 0.5 0.5 0.5 0.5 0.5\n",
      " 0.5 0.5 0.5 0.5 0.5 0.5 0.5 0.5]\n"
     ]
    },
    {
     "data": {
      "text/plain": [
       "array([2.58418274e-02, 5.44317478e-03, 2.38541768e-03, 1.09405527e-02,\n",
       "       7.56119543e-02, 2.65605726e-03, 2.68877045e-02, 7.92447442e-05,\n",
       "       1.87761485e-03, 1.95172459e-03])"
      ]
     },
     "execution_count": 27,
     "metadata": {},
     "output_type": "execute_result"
    }
   ],
   "source": [
    "propagacion_hacia_delante(theta1[0].shape[0], theta1, theta2)"
   ]
  },
  {
   "cell_type": "code",
   "execution_count": 120,
   "metadata": {},
   "outputs": [],
   "source": [
    "def precision_red(mat_valores, clases, mat_theta1, mat_theta2, ejemplos):\n",
    "    indice = np.random.randint(5000,size=ejemplos)\n",
    "    res = np.empty(ejemplos)\n",
    "    clas = np.empty(ejemplos)\n",
    "    for i, pos in enumerate(indice):\n",
    "        res[i]=np.argmax(propagacion_hacia_delante(mat_valores[pos],mat_theta1,mat_theta2))\n",
    "        clas[i]=clases[pos]-1\n",
    "    preci = sum(res==clas)/ejemplos\n",
    "    return res, clas, preci"
   ]
  },
  {
   "cell_type": "code",
   "execution_count": 121,
   "metadata": {},
   "outputs": [],
   "source": [
    "salida_red, valores_reales, precision = precision_red(X,y,theta1,theta2, 80)"
   ]
  },
  {
   "cell_type": "code",
   "execution_count": 122,
   "metadata": {},
   "outputs": [
    {
     "data": {
      "text/plain": [
       "array([3., 8., 0., 8., 4., 1., 5., 9., 0., 5., 8., 8., 4., 8., 6., 0., 6.,\n",
       "       8., 1., 5., 6., 8., 5., 3., 1., 3., 6., 4., 5., 4., 4., 9., 4., 0.,\n",
       "       2., 1., 8., 2., 1., 2., 3., 1., 5., 9., 6., 0., 1., 0., 1., 5., 6.,\n",
       "       6., 4., 2., 0., 3., 2., 4., 7., 5., 4., 3., 3., 6., 0., 0., 0., 9.,\n",
       "       5., 3., 5., 1., 2., 2., 5., 4., 0., 8., 2., 3.])"
      ]
     },
     "execution_count": 122,
     "metadata": {},
     "output_type": "execute_result"
    }
   ],
   "source": [
    "salida_red"
   ]
  },
  {
   "cell_type": "code",
   "execution_count": 123,
   "metadata": {},
   "outputs": [
    {
     "data": {
      "text/plain": [
       "array([3., 8., 0., 8., 4., 1., 5., 9., 0., 5., 8., 2., 4., 8., 6., 0., 6.,\n",
       "       8., 1., 5., 6., 8., 5., 3., 1., 3., 6., 4., 5., 4., 4., 9., 4., 0.,\n",
       "       2., 1., 8., 2., 1., 2., 3., 1., 5., 9., 6., 0., 1., 0., 1., 5., 6.,\n",
       "       6., 4., 2., 0., 3., 2., 4., 7., 5., 4., 3., 3., 6., 0., 0., 0., 9.,\n",
       "       5., 3., 5., 1., 2., 2., 5., 4., 0., 8., 2., 3.])"
      ]
     },
     "execution_count": 123,
     "metadata": {},
     "output_type": "execute_result"
    }
   ],
   "source": [
    "valores_reales"
   ]
  },
  {
   "cell_type": "code",
   "execution_count": 124,
   "metadata": {},
   "outputs": [
    {
     "data": {
      "text/plain": [
       "0.9875"
      ]
     },
     "execution_count": 124,
     "metadata": {},
     "output_type": "execute_result"
    }
   ],
   "source": [
    "precision"
   ]
  },
  {
   "cell_type": "code",
   "execution_count": 158,
   "metadata": {},
   "outputs": [],
   "source": [
    "pres_red = np.empty(50)\n",
    "for i, pos in enumerate(np.linspace(100,200,num=50)):\n",
    "    ar,br,cr = precision_red(X,y,theta1,theta2, 80)\n",
    "    pres_red[i] = cr"
   ]
  },
  {
   "cell_type": "code",
   "execution_count": 159,
   "metadata": {},
   "outputs": [
    {
     "data": {
      "text/plain": [
       "array([0.975 , 0.975 , 0.975 , 0.9875, 0.9625, 0.9625, 0.9625, 0.9875,\n",
       "       0.975 , 0.9875, 0.9625, 0.9875, 0.975 , 0.9625, 0.975 , 0.975 ,\n",
       "       0.9375, 1.    , 0.9625, 1.    , 0.975 , 1.    , 0.9625, 0.9625,\n",
       "       0.9625, 0.9625, 0.975 , 0.95  , 0.975 , 1.    , 0.925 , 0.975 ,\n",
       "       0.9625, 0.9875, 0.975 , 0.95  , 0.9625, 0.9625, 0.975 , 0.975 ,\n",
       "       0.95  , 0.95  , 0.9625, 1.    , 0.9875, 0.975 , 1.    , 0.9875,\n",
       "       0.9625, 0.9875])"
      ]
     },
     "execution_count": 159,
     "metadata": {},
     "output_type": "execute_result"
    }
   ],
   "source": [
    "pres_red"
   ]
  },
  {
   "cell_type": "code",
   "execution_count": 160,
   "metadata": {},
   "outputs": [
    {
     "data": {
      "text/plain": [
       "0.9725"
      ]
     },
     "execution_count": 160,
     "metadata": {},
     "output_type": "execute_result"
    }
   ],
   "source": [
    "sum(pres_red)/len(pres_red)"
   ]
  },
  {
   "cell_type": "code",
   "execution_count": null,
   "metadata": {},
   "outputs": [],
   "source": []
  }
 ],
 "metadata": {
  "kernelspec": {
   "display_name": "Python 3",
   "language": "python",
   "name": "python3"
  },
  "language_info": {
   "codemirror_mode": {
    "name": "ipython",
    "version": 3
   },
   "file_extension": ".py",
   "mimetype": "text/x-python",
   "name": "python",
   "nbconvert_exporter": "python",
   "pygments_lexer": "ipython3",
   "version": "3.8.5"
  }
 },
 "nbformat": 4,
 "nbformat_minor": 4
}
