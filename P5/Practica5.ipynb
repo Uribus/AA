{
 "cells": [
  {
   "cell_type": "code",
   "execution_count": 1,
   "metadata": {},
   "outputs": [],
   "source": [
    "import matplotlib.pyplot as plt\n",
    "import numpy as np\n",
    "import scipy.optimize as opt\n",
    "from scipy.io import loadmat\n",
    "from sklearn import preprocessing"
   ]
  },
  {
   "cell_type": "code",
   "execution_count": 2,
   "metadata": {},
   "outputs": [],
   "source": [
    "data = loadmat('.\\p5\\ex5data1.mat')\n",
    "X, y, Xtest, ytest, Xval, yval = data['X'], data['y'], data['Xtest'], data['ytest'], data['Xval'], data['yval']"
   ]
  },
  {
   "cell_type": "code",
   "execution_count": 3,
   "metadata": {},
   "outputs": [
    {
     "data": {
      "text/plain": [
       "array([[-15.93675813],\n",
       "       [-29.15297922],\n",
       "       [ 36.18954863],\n",
       "       [ 37.49218733],\n",
       "       [-48.05882945],\n",
       "       [ -8.94145794],\n",
       "       [ 15.30779289],\n",
       "       [-34.70626581],\n",
       "       [  1.38915437],\n",
       "       [-44.38375985],\n",
       "       [  7.01350208],\n",
       "       [ 22.76274892]])"
      ]
     },
     "execution_count": 3,
     "metadata": {},
     "output_type": "execute_result"
    }
   ],
   "source": [
    "X"
   ]
  },
  {
   "cell_type": "code",
   "execution_count": 3,
   "metadata": {},
   "outputs": [],
   "source": [
    "X1 = np.hstack([np.ones([X.shape[0],1]),X])"
   ]
  },
  {
   "cell_type": "code",
   "execution_count": 4,
   "metadata": {},
   "outputs": [],
   "source": [
    "theta = np.ones(X1.shape[1])"
   ]
  },
  {
   "cell_type": "code",
   "execution_count": 5,
   "metadata": {},
   "outputs": [],
   "source": [
    "def coste_rl(Xs, yv, theta, reg):\n",
    "    m = len(Xs)\n",
    "    H = (np.matmul(Xs,theta) - yv.T)**2\n",
    "    sumatorio_reg = (reg/(2*m)) * np.sum(theta[1:]**2)\n",
    "    coste = (1/(2*m)) * sum(H[0]) + sumatorio_reg\n",
    "    return coste"
   ]
  },
  {
   "cell_type": "code",
   "execution_count": 6,
   "metadata": {},
   "outputs": [
    {
     "data": {
      "text/plain": [
       "303.9931922202643"
      ]
     },
     "execution_count": 6,
     "metadata": {},
     "output_type": "execute_result"
    }
   ],
   "source": [
    "coste_rl(X1, y, theta, 1)"
   ]
  },
  {
   "cell_type": "code",
   "execution_count": 7,
   "metadata": {},
   "outputs": [],
   "source": [
    "def gradiente_rl(Xs, yv, theta, reg):\n",
    "    m = len(Xs)\n",
    "    H = (np.matmul(Xs,theta) - yv.T)\n",
    "    j0 = ((1/m) *  sum(H.T * Xs[0]))\n",
    "    jn_1 = ((1/m) *  sum(H.T * Xs)) + (reg/m)*theta\n",
    "    return np.append(j0[0], jn_1[1:])"
   ]
  },
  {
   "cell_type": "code",
   "execution_count": 8,
   "metadata": {},
   "outputs": [
    {
     "data": {
      "text/plain": [
       "array([-15.30301567, 598.25074417])"
      ]
     },
     "execution_count": 8,
     "metadata": {},
     "output_type": "execute_result"
    }
   ],
   "source": [
    "gradiente_rl(X1,y,theta,1)"
   ]
  },
  {
   "cell_type": "code",
   "execution_count": 9,
   "metadata": {},
   "outputs": [],
   "source": [
    "def regresion_linear_regularizada(theta, X, yv, reg):\n",
    "    \"\"\"\n",
    "    Devuelve el valor del coste y del gradiente aplicando regresion linear regularizada \n",
    "    sobre el conjunto de datos con entrada X y salida y \n",
    "    X     -- entrada conjunto de datos\n",
    "    y     -- salida conjunto de datos\n",
    "    theta -- vector de parametros theta\n",
    "    reg   -- valor de regularizacion\n",
    "    \"\"\"\n",
    "    coste = coste_rl(X,yv,theta,reg)\n",
    "    gradiente = gradiente_rl(X,yv,theta,reg)\n",
    "    \n",
    "    return coste, gradiente"
   ]
  },
  {
   "cell_type": "code",
   "execution_count": 10,
   "metadata": {},
   "outputs": [
    {
     "data": {
      "text/plain": [
       "(303.9931922202643, array([-15.30301567, 598.25074417]))"
      ]
     },
     "execution_count": 10,
     "metadata": {},
     "output_type": "execute_result"
    }
   ],
   "source": [
    "regresion_linear_regularizada(theta, X1, y, 1)"
   ]
  },
  {
   "cell_type": "code",
   "execution_count": 11,
   "metadata": {},
   "outputs": [],
   "source": [
    "tmin = opt.minimize(fun=regresion_linear_regularizada, x0=theta, args=(X1, y, 0),method='TNC',jac=True,options={'maxiter' : 70})"
   ]
  },
  {
   "cell_type": "code",
   "execution_count": 12,
   "metadata": {},
   "outputs": [
    {
     "data": {
      "text/plain": [
       "     fun: 22.373906495108947\n",
       "     jac: array([ 2.61044255e-07, -1.38713461e-08])\n",
       " message: 'Converged (|f_n-f_(n-1)| ~= 0)'\n",
       "    nfev: 9\n",
       "     nit: 4\n",
       "  status: 1\n",
       " success: True\n",
       "       x: array([13.08790378,  0.36777923])"
      ]
     },
     "execution_count": 12,
     "metadata": {},
     "output_type": "execute_result"
    }
   ],
   "source": [
    "tmin"
   ]
  },
  {
   "cell_type": "code",
   "execution_count": 13,
   "metadata": {},
   "outputs": [],
   "source": [
    "def h0(teta0,teta1,x):\n",
    "    return teta0 + teta1*x"
   ]
  },
  {
   "cell_type": "code",
   "execution_count": 83,
   "metadata": {},
   "outputs": [
    {
     "data": {
      "text/plain": [
       "array([[ 7.22669512],\n",
       "       [ 2.36604349],\n",
       "       [26.39766816],\n",
       "       [26.87675162],\n",
       "       [-4.58713558],\n",
       "       [ 9.79942125],\n",
       "       [18.71779208],\n",
       "       [ 0.32366002],\n",
       "       [13.59880591],\n",
       "       [-3.2355213 ],\n",
       "       [15.66732418],\n",
       "       [21.45957008]])"
      ]
     },
     "execution_count": 83,
     "metadata": {},
     "output_type": "execute_result"
    }
   ],
   "source": [
    "h0(tmin['x'][0],tmin['x'][1],X)"
   ]
  },
  {
   "cell_type": "code",
   "execution_count": 14,
   "metadata": {
    "scrolled": false
   },
   "outputs": [
    {
     "data": {
      "text/plain": [
       "<Figure size 432x288 with 0 Axes>"
      ]
     },
     "metadata": {},
     "output_type": "display_data"
    },
    {
     "data": {
      "image/png": "[encoded data removed]",
      "text/plain": [
       "<Figure size 648x648 with 1 Axes>"
      ]
     },
     "metadata": {
      "needs_background": "light"
     },
     "output_type": "display_data"
    },
    {
     "data": {
      "text/plain": [
       "<Figure size 432x288 with 0 Axes>"
      ]
     },
     "metadata": {},
     "output_type": "display_data"
    }
   ],
   "source": [
    "plt.figure()\n",
    "fig= plt.figure(figsize=(9,9))\n",
    "plt.scatter(X[:],y[:],c='red',marker=\"x\")\n",
    "plt.plot(X,h0(tmin['x'][0],tmin['x'][1],X), c='black',linewidth=1)\n",
    "plt.xlabel('Nivel del agua (x)')\n",
    "plt.ylabel('Volumen de agua derramada de la presa (y)')\n",
    "plt.show()\n",
    "plt.savefig('p5Fig1.png')"
   ]
  },
  {
   "cell_type": "markdown",
   "metadata": {},
   "source": [
    "## Curvas de aprendizaje"
   ]
  },
  {
   "cell_type": "code",
   "execution_count": 15,
   "metadata": {
    "scrolled": true
   },
   "outputs": [],
   "source": [
    "the_ca = []\n",
    "error_t = []\n",
    "error_cv = []\n",
    "Xval1 = np.hstack([np.ones([Xval.shape[0],1]),Xval])\n",
    "for i in range(len(X)):\n",
    "    subconjunto_x = X1[0:i+1]\n",
    "    subconjunto_y = y[0:i+1]\n",
    "    tmin = opt.minimize(fun=regresion_linear_regularizada, x0=theta, args=(subconjunto_x, subconjunto_y, 0),method='TNC',jac=True,options={'maxiter' : 70})\n",
    "    the_ca.append(tmin['x'])\n",
    "    error_t.append(coste_rl(subconjunto_x, subconjunto_y, the_ca[i], 0))\n",
    "    error_cv.append(coste_rl(Xval1, yval, the_ca[i], 0))"
   ]
  },
  {
   "cell_type": "code",
   "execution_count": 17,
   "metadata": {},
   "outputs": [
    {
     "data": {
      "text/plain": [
       "[array([ 1.06695055, -0.06697472]),\n",
       " array([3.29319568, 0.07271775]),\n",
       " array([14.15499028,  0.53912266]),\n",
       " array([14.62429824,  0.55985727]),\n",
       " array([17.21375957,  0.44974975]),\n",
       " array([15.40485121,  0.45741711]),\n",
       " array([14.26678031,  0.4368173 ]),\n",
       " array([14.62344002,  0.42312838]),\n",
       " array([13.29661008,  0.41299409]),\n",
       " array([13.85366366,  0.37780979]),\n",
       " array([12.93724128,  0.36342987]),\n",
       " array([13.08790378,  0.36777923])]"
      ]
     },
     "execution_count": 17,
     "metadata": {},
     "output_type": "execute_result"
    }
   ],
   "source": [
    "the_ca"
   ]
  },
  {
   "cell_type": "code",
   "execution_count": 18,
   "metadata": {},
   "outputs": [
    {
     "data": {
      "text/plain": [
       "[8.631534185484672e-18,\n",
       " 8.371044654825317e-18,\n",
       " 3.286595045501339,\n",
       " 2.842677689399798,\n",
       " 13.15404880911494,\n",
       " 19.443962512495474,\n",
       " 20.098521655088906,\n",
       " 18.172858695200027,\n",
       " 22.60940542495472,\n",
       " 23.261461592612033,\n",
       " 24.31724958804419,\n",
       " 22.373906495108947]"
      ]
     },
     "execution_count": 18,
     "metadata": {},
     "output_type": "execute_result"
    }
   ],
   "source": [
    "error_t"
   ]
  },
  {
   "cell_type": "code",
   "execution_count": 19,
   "metadata": {},
   "outputs": [
    {
     "data": {
      "text/plain": [
       "[169.87070840820135,\n",
       " 110.3003658450425,\n",
       " 45.010231234641175,\n",
       " 48.36891147269707,\n",
       " 35.86516420888284,\n",
       " 33.829961749819155,\n",
       " 31.970985730857027,\n",
       " 30.86244629494908,\n",
       " 31.13599805614193,\n",
       " 28.93620722435191,\n",
       " 29.551431975377273,\n",
       " 29.433817800893944]"
      ]
     },
     "execution_count": 19,
     "metadata": {},
     "output_type": "execute_result"
    }
   ],
   "source": [
    "error_cv"
   ]
  },
  {
   "cell_type": "code",
   "execution_count": 16,
   "metadata": {},
   "outputs": [
    {
     "data": {
      "text/plain": [
       "<Figure size 432x288 with 0 Axes>"
      ]
     },
     "metadata": {},
     "output_type": "display_data"
    },
    {
     "data": {
      "image/png": "[encoded data removed]",
      "text/plain": [
       "<Figure size 648x648 with 1 Axes>"
      ]
     },
     "metadata": {
      "needs_background": "light"
     },
     "output_type": "display_data"
    },
    {
     "data": {
      "text/plain": [
       "<Figure size 432x288 with 0 Axes>"
      ]
     },
     "metadata": {},
     "output_type": "display_data"
    }
   ],
   "source": [
    "subconjuntos = np.arange(0,12)\n",
    "plt.figure()\n",
    "fig= plt.figure(figsize=(9,9))\n",
    "plt.plot(subconjuntos,error_t, c='black',linewidth=1,label='Train')\n",
    "plt.plot(subconjuntos,error_cv, c='orange',linewidth=1,label='Cross Validation')\n",
    "plt.xlabel('Nº ejemplos de entrenamiento')\n",
    "plt.ylabel('Error')\n",
    "plt.title('Curva de aprendizaje para la regresion linear')\n",
    "plt.legend(loc=1)\n",
    "plt.show()\n",
    "plt.savefig('p5Fig2.png')"
   ]
  },
  {
   "cell_type": "markdown",
   "metadata": {},
   "source": [
    "## Regresion polinomial"
   ]
  },
  {
   "cell_type": "code",
   "execution_count": 17,
   "metadata": {},
   "outputs": [],
   "source": [
    "def matriz_exponentes(mat, p):\n",
    "    base = mat\n",
    "    for i in range(1,p):\n",
    "        nueva = base**(i+1)\n",
    "        mat = np.hstack((mat, nueva))\n",
    "    return mat"
   ]
  },
  {
   "cell_type": "code",
   "execution_count": 18,
   "metadata": {},
   "outputs": [],
   "source": [
    "def normaliza_matriz_np(mat):\n",
    "    medias = []\n",
    "    dev_estandar = []\n",
    "    matriz = np.zeros(mat.shape)\n",
    "    for i in range(mat.shape[1]):\n",
    "        medias.append(np.mean(mat[:,i]))\n",
    "        dev_estandar.append(np.std(mat[:,i]))\n",
    "        matriz[:,i] = (mat[:,i] - np.mean(mat[:,i])) / np.std(mat[:,i])\n",
    "    return matriz, np.array(medias), np.array(dev_estandar)"
   ]
  },
  {
   "cell_type": "markdown",
   "metadata": {},
   "source": [
    "----------------"
   ]
  },
  {
   "cell_type": "code",
   "execution_count": 26,
   "metadata": {},
   "outputs": [],
   "source": [
    "k = np.array([[1],[2],[3],[4]])"
   ]
  },
  {
   "cell_type": "code",
   "execution_count": 27,
   "metadata": {
    "scrolled": false
   },
   "outputs": [],
   "source": [
    "me = matriz_exponentes(k,5)"
   ]
  },
  {
   "cell_type": "code",
   "execution_count": 32,
   "metadata": {},
   "outputs": [
    {
     "data": {
      "text/plain": [
       "array([[   1,    1,    1,    1,    1],\n",
       "       [   2,    4,    8,   16,   32],\n",
       "       [   3,    9,   27,   81,  243],\n",
       "       [   4,   16,   64,  256, 1024]])"
      ]
     },
     "execution_count": 32,
     "metadata": {},
     "output_type": "execute_result"
    }
   ],
   "source": [
    "me"
   ]
  },
  {
   "cell_type": "code",
   "execution_count": 38,
   "metadata": {},
   "outputs": [
    {
     "data": {
      "text/plain": [
       "array([-1.14458618, -0.61631563,  0.26413527,  1.49676654])"
      ]
     },
     "execution_count": 38,
     "metadata": {},
     "output_type": "execute_result"
    }
   ],
   "source": [
    "(me[:,1] - np.mean(me[:,1]))/np.std(me[:,1])"
   ]
  },
  {
   "cell_type": "code",
   "execution_count": 39,
   "metadata": {},
   "outputs": [
    {
     "data": {
      "text/plain": [
       "array([-1.14458618, -0.61631563,  0.26413527,  1.49676654])"
      ]
     },
     "execution_count": 39,
     "metadata": {},
     "output_type": "execute_result"
    }
   ],
   "source": [
    "preprocessing.scale(me[:,1])"
   ]
  },
  {
   "cell_type": "code",
   "execution_count": 108,
   "metadata": {},
   "outputs": [
    {
     "data": {
      "text/plain": [
       "(array([[-1.34164079, -1.14458618, -0.98184354, -0.86400002, -0.78228585],\n",
       "        [-0.4472136 , -0.61631563, -0.69547251, -0.71588573, -0.70743751],\n",
       "        [ 0.4472136 ,  0.26413527,  0.08182029, -0.07405714, -0.19798592],\n",
       "        [ 1.34164079,  1.49676654,  1.59549575,  1.6539429 ,  1.68770928]]),\n",
       " array([  2.5,   7.5,  25. ,  88.5, 325. ]),\n",
       " array([  1.11803399,   5.67890835,  24.44381312, 101.2731455 ,\n",
       "        414.17085846]))"
      ]
     },
     "execution_count": 108,
     "metadata": {},
     "output_type": "execute_result"
    }
   ],
   "source": [
    "normaliza_matriz_np(me)"
   ]
  },
  {
   "cell_type": "markdown",
   "metadata": {},
   "source": [
    "--------------"
   ]
  },
  {
   "cell_type": "code",
   "execution_count": 20,
   "metadata": {},
   "outputs": [],
   "source": [
    "matriz_entrada = matriz_exponentes(X,8)"
   ]
  },
  {
   "cell_type": "code",
   "execution_count": 21,
   "metadata": {},
   "outputs": [],
   "source": [
    "matriz_entrada, vector_medias, vector_desviacion = normaliza_matriz_np(matriz_entrada)"
   ]
  },
  {
   "cell_type": "code",
   "execution_count": 22,
   "metadata": {},
   "outputs": [
    {
     "data": {
      "text/plain": [
       "array([[-3.78243704e-01, -7.88662325e-01,  1.90328720e-01,\n",
       "        -7.37591303e-01,  3.20251970e-01, -6.17151602e-01,\n",
       "         3.59835014e-01, -5.31091256e-01],\n",
       "       [-8.38920100e-01,  1.31420204e-03, -2.58961742e-01,\n",
       "        -3.41564822e-01,  9.75492734e-02, -4.55196644e-01,\n",
       "         2.66773432e-01, -4.68873807e-01],\n",
       "       [ 1.43871736e+00,  6.10831582e-01,  1.30534069e+00,\n",
       "         2.56220001e-01,  1.02186338e+00, -1.26962121e-02,\n",
       "         7.90210009e-01, -1.77926980e-01],\n",
       "       [ 1.48412330e+00,  7.38068463e-01,  1.42031240e+00,\n",
       "         4.13121830e-01,  1.15534830e+00,  1.31223708e-01,\n",
       "         9.10700224e-01, -6.22895388e-02],\n",
       "       [-1.49791929e+00,  1.93643966e+00, -2.12774745e+00,\n",
       "         2.43510061e+00, -2.51876748e+00,  2.71792174e+00,\n",
       "        -2.76331690e+00,  2.88908182e+00],\n",
       "       [-1.34409278e-01, -1.01936614e+00,  2.62563148e-01,\n",
       "        -7.72577738e-01,  3.31046537e-01, -6.21453712e-01,\n",
       "         3.61188658e-01, -5.31586524e-01],\n",
       "       [ 7.10844248e-01, -8.14713668e-01,  3.55803314e-01,\n",
       "        -7.43368461e-01,  3.41027665e-01, -6.18104683e-01,\n",
       "         3.62252117e-01, -5.31229003e-01],\n",
       "       [-1.03249041e+00,  4.71428060e-01, -6.28018432e-01,\n",
       "         9.70487696e-02, -2.28187552e-01, -1.47905228e-01,\n",
       "         4.11556057e-02, -2.78551428e-01],\n",
       "       [ 2.25683763e-01, -1.12279332e+00,  2.78115330e-01,\n",
       "        -7.76423647e-01,  3.31682056e-01, -6.21592224e-01,\n",
       "         3.61212770e-01, -5.31591435e-01],\n",
       "       [-1.36981778e+00,  1.48607235e+00, -1.61695958e+00,\n",
       "         1.55980151e+00, -1.58331392e+00,  1.45040261e+00,\n",
       "        -1.42914967e+00,  1.27857621e+00],\n",
       "       [ 4.21731046e-01, -1.06014377e+00,  2.85534542e-01,\n",
       "        -7.74969228e-01,  3.31870677e-01, -6.21559967e-01,\n",
       "         3.61217175e-01, -5.31590732e-01],\n",
       "       [ 9.70700848e-01, -4.38475085e-01,  5.33689054e-01,\n",
       "        -6.14797521e-01,  3.99629101e-01, -5.83887796e-01,\n",
       "         3.77921571e-01, -5.22927330e-01]])"
      ]
     },
     "execution_count": 22,
     "metadata": {},
     "output_type": "execute_result"
    }
   ],
   "source": [
    "matriz_entrada"
   ]
  },
  {
   "cell_type": "code",
   "execution_count": 47,
   "metadata": {},
   "outputs": [],
   "source": [
    "p,q = regresion_linear_regularizada(theta,matriz_entrada1,y,0)"
   ]
  },
  {
   "cell_type": "code",
   "execution_count": 49,
   "metadata": {},
   "outputs": [],
   "source": [
    "q = q.reshape(-1,1)"
   ]
  },
  {
   "cell_type": "code",
   "execution_count": 52,
   "metadata": {},
   "outputs": [
    {
     "data": {
      "text/plain": [
       "array([[-10.21758933],\n",
       "       [ -9.02356739],\n",
       "       [ -0.43668793],\n",
       "       [ -7.64073489],\n",
       "       [  1.13604641],\n",
       "       [ -6.32800778],\n",
       "       [  2.11358063],\n",
       "       [ -5.34594533],\n",
       "       [  2.68928726]])"
      ]
     },
     "execution_count": 52,
     "metadata": {},
     "output_type": "execute_result"
    }
   ],
   "source": [
    "q"
   ]
  },
  {
   "cell_type": "code",
   "execution_count": 23,
   "metadata": {},
   "outputs": [],
   "source": [
    "matriz_entrada1 = np.hstack([np.ones([matriz_entrada.shape[0],1]),matriz_entrada])"
   ]
  },
  {
   "cell_type": "code",
   "execution_count": 44,
   "metadata": {},
   "outputs": [
    {
     "data": {
      "text/plain": [
       "array([-0.3782437 , -0.8389201 ,  1.43871736,  1.4841233 , -1.49791929,\n",
       "       -0.13440928,  0.71084425, -1.03249041,  0.22568376, -1.36981778,\n",
       "        0.42173105,  0.97070085])"
      ]
     },
     "execution_count": 44,
     "metadata": {},
     "output_type": "execute_result"
    }
   ],
   "source": [
    "matriz_entrada[:,0]"
   ]
  },
  {
   "cell_type": "code",
   "execution_count": 75,
   "metadata": {},
   "outputs": [
    {
     "data": {
      "text/plain": [
       "array([1., 1., 1., 1., 1., 1., 1., 1., 1., 1., 1., 1.])"
      ]
     },
     "execution_count": 75,
     "metadata": {},
     "output_type": "execute_result"
    }
   ],
   "source": [
    "matriz_entrada1[:,0]"
   ]
  },
  {
   "cell_type": "code",
   "execution_count": 24,
   "metadata": {},
   "outputs": [],
   "source": [
    "theta = np.ones(matriz_entrada1.shape[1])"
   ]
  },
  {
   "cell_type": "code",
   "execution_count": 25,
   "metadata": {},
   "outputs": [],
   "source": [
    "tmin = opt.minimize(fun=regresion_linear_regularizada, x0=theta, args=(matriz_entrada1, y, 0),method='TNC',jac=True,options={'maxiter' : 70})"
   ]
  },
  {
   "cell_type": "code",
   "execution_count": 26,
   "metadata": {},
   "outputs": [
    {
     "data": {
      "text/plain": [
       "     fun: 0.05103334201537832\n",
       "     jac: array([-0.00026556,  0.00308108, -0.00290513,  0.00388942, -0.00778646,\n",
       "        0.00581994, -0.00588682,  0.00399002, -0.00316407])\n",
       " message: 'Max. number of function evaluations reached'\n",
       "    nfev: 70\n",
       "     nit: 16\n",
       "  status: 3\n",
       " success: False\n",
       "       x: array([ 11.21732377,  10.78543449,  21.14954951,  14.58538036,\n",
       "       -43.80900131, -38.93934252,  41.41683104,  33.5490928 ,\n",
       "        -4.65389177])"
      ]
     },
     "execution_count": 26,
     "metadata": {},
     "output_type": "execute_result"
    }
   ],
   "source": [
    "tmin"
   ]
  },
  {
   "cell_type": "code",
   "execution_count": 27,
   "metadata": {},
   "outputs": [],
   "source": [
    "def h0_multivariable(tetas,xs):\n",
    "    return(np.dot(xs[:,:],tetas[:]))"
   ]
  },
  {
   "cell_type": "code",
   "execution_count": 28,
   "metadata": {},
   "outputs": [],
   "source": [
    "ar = h0_multivariable(tmin['x'],matriz_entrada1)"
   ]
  },
  {
   "cell_type": "code",
   "execution_count": 29,
   "metadata": {},
   "outputs": [
    {
     "data": {
      "text/plain": [
       "array([ 2.0600181 ,  1.86434653, 34.48983353, 36.74081785,  2.79771419,\n",
       "        1.84608926, 15.15519922,  2.07724862,  3.90807918,  3.78294022,\n",
       "        7.38617516, 22.49942335])"
      ]
     },
     "execution_count": 29,
     "metadata": {},
     "output_type": "execute_result"
    }
   ],
   "source": [
    "ar"
   ]
  },
  {
   "cell_type": "code",
   "execution_count": 57,
   "metadata": {},
   "outputs": [],
   "source": [
    "er = h0_multivariable(q,matriz_entrada1)"
   ]
  },
  {
   "cell_type": "code",
   "execution_count": 58,
   "metadata": {},
   "outputs": [
    {
     "data": {
      "text/plain": [
       "array([[-15.43514359],\n",
       "       [ -5.32396656],\n",
       "       [-44.34548965],\n",
       "       [-46.38465564],\n",
       "       [ 65.70274691],\n",
       "       [-18.21229411],\n",
       "       [-26.66891174],\n",
       "       [  3.96430735],\n",
       "       [-21.5441082 ],\n",
       "       [ 39.7842507 ],\n",
       "       [-23.39669538],\n",
       "       [-30.75111202]])"
      ]
     },
     "execution_count": 58,
     "metadata": {},
     "output_type": "execute_result"
    }
   ],
   "source": [
    "er"
   ]
  },
  {
   "cell_type": "code",
   "execution_count": 30,
   "metadata": {
    "scrolled": true
   },
   "outputs": [
    {
     "data": {
      "text/plain": [
       "<Figure size 432x288 with 0 Axes>"
      ]
     },
     "metadata": {},
     "output_type": "display_data"
    },
    {
     "data": {
      "image/png": "[encoded data removed]",
      "text/plain": [
       "<Figure size 648x648 with 1 Axes>"
      ]
     },
     "metadata": {
      "needs_background": "light"
     },
     "output_type": "display_data"
    },
    {
     "data": {
      "text/plain": [
       "<Figure size 432x288 with 0 Axes>"
      ]
     },
     "metadata": {},
     "output_type": "display_data"
    }
   ],
   "source": [
    "plt.figure()\n",
    "fig= plt.figure(figsize=(9,9))\n",
    "plt.scatter(X[:],y[:],c='red',marker=\"x\")\n",
    "plt.plot(X,ar, c='black',linewidth=1)\n",
    "plt.xlabel('Nivel del agua (x)')\n",
    "plt.ylabel('Volumen de agua derramada de la presa (y)')\n",
    "plt.show()\n",
    "plt.savefig('p5Fig3a.png')"
   ]
  },
  {
   "cell_type": "code",
   "execution_count": 31,
   "metadata": {},
   "outputs": [
    {
     "data": {
      "text/plain": [
       "<Figure size 432x288 with 0 Axes>"
      ]
     },
     "metadata": {},
     "output_type": "display_data"
    },
    {
     "data": {
      "image/png": "[encoded data removed]",
      "text/plain": [
       "<Figure size 648x648 with 1 Axes>"
      ]
     },
     "metadata": {
      "needs_background": "light"
     },
     "output_type": "display_data"
    },
    {
     "data": {
      "text/plain": [
       "<Figure size 432x288 with 0 Axes>"
      ]
     },
     "metadata": {},
     "output_type": "display_data"
    }
   ],
   "source": [
    "plt.figure()\n",
    "fig= plt.figure(figsize=(9,9))\n",
    "plt.axes(projection = 'polar')\n",
    "plt.scatter(X[:],y[:],c='red',marker=\"x\")\n",
    "plt.plot(X,ar, c='black',linewidth=1)\n",
    "#plt.xlabel('Nivel del agua')\n",
    "#plt.ylabel('Volumen de agua derramada de la presa')\n",
    "plt.show()\n",
    "plt.savefig('p5Fi3b.png')"
   ]
  },
  {
   "cell_type": "code",
   "execution_count": 112,
   "metadata": {},
   "outputs": [
    {
     "data": {
      "text/plain": [
       "array([[ 2.13431051],\n",
       "       [ 1.17325668],\n",
       "       [34.35910918],\n",
       "       [36.83795516],\n",
       "       [ 2.80896507],\n",
       "       [ 2.12107248],\n",
       "       [14.71026831],\n",
       "       [ 2.61418439],\n",
       "       [ 3.74017167],\n",
       "       [ 3.73169131],\n",
       "       [ 7.62765885],\n",
       "       [22.7524283 ]])"
      ]
     },
     "execution_count": 112,
     "metadata": {},
     "output_type": "execute_result"
    }
   ],
   "source": [
    "y"
   ]
  },
  {
   "cell_type": "code",
   "execution_count": 76,
   "metadata": {},
   "outputs": [
    {
     "data": {
      "text/plain": [
       "12"
      ]
     },
     "execution_count": 76,
     "metadata": {},
     "output_type": "execute_result"
    }
   ],
   "source": [
    "len(h0_multivariable(tmin['x'],matriz_entrada1))"
   ]
  },
  {
   "cell_type": "code",
   "execution_count": 77,
   "metadata": {},
   "outputs": [],
   "source": [
    "lin_esp = np.arange(min(X),max(X),0.05)"
   ]
  },
  {
   "cell_type": "code",
   "execution_count": 78,
   "metadata": {},
   "outputs": [
    {
     "data": {
      "text/plain": [
       "array([-48.05882945, -48.00882945, -47.95882945, ...,  37.39117055,\n",
       "        37.44117055,  37.49117055])"
      ]
     },
     "execution_count": 78,
     "metadata": {},
     "output_type": "execute_result"
    }
   ],
   "source": [
    "lin_esp"
   ]
  },
  {
   "cell_type": "markdown",
   "metadata": {},
   "source": [
    "## Curvas de aprendizaje"
   ]
  },
  {
   "cell_type": "code",
   "execution_count": 15,
   "metadata": {},
   "outputs": [
    {
     "data": {
      "text/plain": [
       "array([[-16.74653578],\n",
       "       [-14.57747075],\n",
       "       [ 34.51575866],\n",
       "       [-47.01007574],\n",
       "       [ 36.97511905],\n",
       "       [-40.68611002],\n",
       "       [ -4.47201098],\n",
       "       [ 26.53363489],\n",
       "       [-42.7976831 ],\n",
       "       [ 25.37409938],\n",
       "       [-31.10955398],\n",
       "       [ 27.31176864],\n",
       "       [ -3.26386201],\n",
       "       [ -1.81827649],\n",
       "       [-40.7196624 ],\n",
       "       [-50.01324365],\n",
       "       [-17.41177155],\n",
       "       [  3.5881937 ],\n",
       "       [  7.08548026],\n",
       "       [ 46.28236902],\n",
       "       [ 14.61228909]])"
      ]
     },
     "execution_count": 15,
     "metadata": {},
     "output_type": "execute_result"
    }
   ],
   "source": [
    "Xval"
   ]
  },
  {
   "cell_type": "code",
   "execution_count": 32,
   "metadata": {},
   "outputs": [],
   "source": [
    "Xval_exp = matriz_exponentes(Xval,8)"
   ]
  },
  {
   "cell_type": "code",
   "execution_count": 33,
   "metadata": {},
   "outputs": [],
   "source": [
    "Xval_norm, Xvm, Xvstd = normaliza_matriz_np(Xval_exp)"
   ]
  },
  {
   "cell_type": "code",
   "execution_count": 34,
   "metadata": {
    "scrolled": true
   },
   "outputs": [],
   "source": [
    "the_ca = []\n",
    "error_t = []\n",
    "error_cv = []\n",
    "Xval1 = np.hstack([np.ones([Xval_norm.shape[0],1]),Xval_norm])\n",
    "for i in range(len(matriz_entrada)):\n",
    "    subconjunto_x = matriz_entrada1[0:i+1]\n",
    "    subconjunto_y = y[0:i+1]\n",
    "    tmin = opt.minimize(fun=regresion_linear_regularizada, x0=theta, args=(subconjunto_x, subconjunto_y, 0),method='TNC',jac=True,options={'maxiter' : 50})\n",
    "    the_ca.append(tmin['x'])\n",
    "    error_t.append(coste_rl(subconjunto_x, subconjunto_y, the_ca[i], 0))\n",
    "    error_cv.append(coste_rl(Xval1, yval, the_ca[i], 0))"
   ]
  },
  {
   "cell_type": "code",
   "execution_count": 68,
   "metadata": {
    "scrolled": false
   },
   "outputs": [
    {
     "data": {
      "text/plain": [
       "[array([2.02355829, 0.61284552, 0.19275814, 1.19481254, 0.24503231,\n",
       "        1.32779656, 0.36830936, 1.36831211, 0.45639714]),\n",
       " array([2.00378225, 0.64806514, 0.1607866 , 1.21810246, 0.23577234,\n",
       "        1.33487321, 0.37076211, 1.36679967, 0.46315362]),\n",
       " array([ 6.55748498,  5.37357619,  5.52389034,  5.46137149,  2.66111978,\n",
       "         5.12692776,  0.80354266,  4.58860321, -0.17332779]),\n",
       " array([ 5.93369351,  6.7891397 ,  6.87544251,  5.49619824,  1.90719569,\n",
       "         4.05617904, -1.41578409,  2.74042469, -2.62245268]),\n",
       " array([10.55535391,  8.48063141,  5.20059556,  4.15050579,  2.4075947 ,\n",
       "         1.7279728 ,  1.13803222,  0.94394247,  0.59619545]),\n",
       " array([ 9.20808597,  4.34066398,  8.50915861, 11.43605977, -1.20154745,\n",
       "         2.97314465,  0.39746872, -4.64474632,  1.54297265]),\n",
       " array([ 10.34339083,  12.37419109,  14.92953327,  -4.21198097,\n",
       "        -21.17955631,   6.3597718 ,   3.00766275,   5.68270036,\n",
       "         16.69870959]),\n",
       " array([ 11.24308874,  11.60873208,  16.93217314,   5.38133293,\n",
       "        -37.14891785, -20.4263569 ,  44.75010772,  22.63568352,\n",
       "        -11.23417802]),\n",
       " array([ 11.09291616,  10.78903957,  15.41441883,  10.16205216,\n",
       "        -20.20596755, -20.3203111 ,  15.83943531,  14.34557135,\n",
       "         -1.99086665]),\n",
       " array([ 11.28010869,  10.31972708,  15.55145615,  13.12390848,\n",
       "        -21.00378813, -21.36453789,  21.25944937,  10.69823735,\n",
       "         -9.03589832]),\n",
       " array([ 11.11134647,  10.88380775,  19.40611735,  10.83406499,\n",
       "        -39.93895637, -30.05026665,  40.50218993,  27.69701778,\n",
       "         -6.41331146]),\n",
       " array([ 11.23239141,   9.86770278,  19.03693819,  15.90515819,\n",
       "        -30.14372796, -28.60272374,  25.08447846,  17.06050094,\n",
       "         -5.50773874])]"
      ]
     },
     "execution_count": 68,
     "metadata": {},
     "output_type": "execute_result"
    }
   ],
   "source": [
    "the_ca"
   ]
  },
  {
   "cell_type": "code",
   "execution_count": 69,
   "metadata": {},
   "outputs": [
    {
     "data": {
      "text/plain": [
       "[6.64655741770095e-22,\n",
       " 6.646436969789454e-17,\n",
       " 4.12152881037907e-18,\n",
       " 5.245740423584247e-14,\n",
       " 3.1482840618788297e-13,\n",
       " 2.5333291430180905e-10,\n",
       " 0.0009064240291443116,\n",
       " 0.031350786477313625,\n",
       " 0.10729309317302392,\n",
       " 0.1169737863890684,\n",
       " 0.044571296743616054,\n",
       " 0.10071500165508913]"
      ]
     },
     "execution_count": 69,
     "metadata": {},
     "output_type": "execute_result"
    }
   ],
   "source": [
    "error_t"
   ]
  },
  {
   "cell_type": "code",
   "execution_count": 70,
   "metadata": {},
   "outputs": [
    {
     "data": {
      "text/plain": [
       "[106.21596834231009,\n",
       " 106.16865991256712,\n",
       " 47.470173188188085,\n",
       " 61.56171764162328,\n",
       " 6.685110588461599,\n",
       " 11.920915417284128,\n",
       " 19.620177575331493,\n",
       " 11.705942579748996,\n",
       " 7.347681179202526,\n",
       " 9.398359876529193,\n",
       " 12.396948905480436,\n",
       " 8.627543583700948]"
      ]
     },
     "execution_count": 70,
     "metadata": {},
     "output_type": "execute_result"
    }
   ],
   "source": [
    "error_cv"
   ]
  },
  {
   "cell_type": "code",
   "execution_count": 35,
   "metadata": {},
   "outputs": [
    {
     "data": {
      "text/plain": [
       "<Figure size 432x288 with 0 Axes>"
      ]
     },
     "metadata": {},
     "output_type": "display_data"
    },
    {
     "data": {
      "image/png": "[encoded data removed]",
      "text/plain": [
       "<Figure size 648x648 with 1 Axes>"
      ]
     },
     "metadata": {
      "needs_background": "light"
     },
     "output_type": "display_data"
    },
    {
     "data": {
      "text/plain": [
       "<Figure size 432x288 with 0 Axes>"
      ]
     },
     "metadata": {},
     "output_type": "display_data"
    }
   ],
   "source": [
    "subconjuntos = np.arange(0,12)\n",
    "plt.figure()\n",
    "fig= plt.figure(figsize=(9,9))\n",
    "plt.plot(subconjuntos,error_t, c='black',linewidth=1,label='Train')\n",
    "plt.plot(subconjuntos,error_cv, c='orange',linewidth=1,label='Cross Validation')\n",
    "plt.xlabel('Nº ejemplos de entrenamiento')\n",
    "plt.ylabel('Error')\n",
    "plt.title('Curva de aprendizaje pare regresion linear (lambda = 0)')\n",
    "plt.legend(loc=1)\n",
    "plt.show()\n",
    "plt.savefig('p5Fig4.png')"
   ]
  },
  {
   "cell_type": "code",
   "execution_count": 36,
   "metadata": {},
   "outputs": [],
   "source": [
    "lambdas = [0, 0.001, 0.003, 0.01, 0.03, 0.1, 0.3, 1, 3, 10]"
   ]
  },
  {
   "cell_type": "code",
   "execution_count": 37,
   "metadata": {},
   "outputs": [],
   "source": [
    "the_ca = []\n",
    "error_t = []\n",
    "error_cv = []\n",
    "Xval1 = np.hstack([np.ones([Xval_norm.shape[0],1]),Xval_norm])\n",
    "for j, lambd in enumerate(lambdas):\n",
    "    subconjunto_x = matriz_entrada1[0:j+1]\n",
    "    subconjunto_y = y[0:j+1]\n",
    "    tmin = opt.minimize(fun=regresion_linear_regularizada, x0=theta, args=(subconjunto_x, subconjunto_y, lambd),method='TNC',jac=True,options={'maxiter' : 50})\n",
    "    the_ca.append(tmin['x'])\n",
    "    error_t.append(coste_rl(matriz_entrada1, y, the_ca[j], lambd))\n",
    "    error_cv.append(coste_rl(Xval1, yval, the_ca[j], lambd))"
   ]
  },
  {
   "cell_type": "code",
   "execution_count": 38,
   "metadata": {},
   "outputs": [
    {
     "data": {
      "text/plain": [
       "<Figure size 432x288 with 0 Axes>"
      ]
     },
     "metadata": {},
     "output_type": "display_data"
    },
    {
     "data": {
      "image/png": "[encoded data removed]",
      "text/plain": [
       "<Figure size 648x648 with 1 Axes>"
      ]
     },
     "metadata": {
      "needs_background": "light"
     },
     "output_type": "display_data"
    },
    {
     "data": {
      "text/plain": [
       "<Figure size 432x288 with 0 Axes>"
      ]
     },
     "metadata": {},
     "output_type": "display_data"
    }
   ],
   "source": [
    "subconjuntos = np.arange(0,10)\n",
    "plt.figure()\n",
    "fig= plt.figure(figsize=(9,9))\n",
    "plt.plot(subconjuntos,error_t, c='black',linewidth=1,label='Train')\n",
    "plt.plot(subconjuntos,error_cv, c='orange',linewidth=1,label='Cross Validation')\n",
    "plt.xlabel('Nº ejemplos de entrenamiento')\n",
    "plt.ylabel('Error')\n",
    "plt.title('Selecting lambda using cross validation set')\n",
    "plt.legend(loc=1)\n",
    "plt.show()\n",
    "plt.savefig('p5Fig5.png')"
   ]
  },
  {
   "cell_type": "code",
   "execution_count": null,
   "metadata": {},
   "outputs": [],
   "source": []
  }
 ],
 "metadata": {
  "kernelspec": {
   "display_name": "Python 3",
   "language": "python",
   "name": "python3"
  },
  "language_info": {
   "codemirror_mode": {
    "name": "ipython",
    "version": 3
   },
   "file_extension": ".py",
   "mimetype": "text/x-python",
   "name": "python",
   "nbconvert_exporter": "python",
   "pygments_lexer": "ipython3",
   "version": "3.8.5"
  }
 },
 "nbformat": 4,
 "nbformat_minor": 4
}
