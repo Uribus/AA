{
 "cells": [
  {
   "cell_type": "code",
   "execution_count": 1,
   "metadata": {},
   "outputs": [],
   "source": [
    "import matplotlib.pyplot as plt\n",
    "import numpy as np\n",
    "import scipy.optimize as opt\n",
    "from scipy.io import loadmat"
   ]
  },
  {
   "cell_type": "code",
   "execution_count": 2,
   "metadata": {},
   "outputs": [],
   "source": [
    "data = loadmat('.\\p5\\ex5data1.mat')\n",
    "X, y, Xtest, ytest, Xval, yval = data['X'], data['y'], data['Xtest'], data['ytest'], data['Xval'], data['yval']"
   ]
  },
  {
   "cell_type": "code",
   "execution_count": 3,
   "metadata": {},
   "outputs": [
    {
     "data": {
      "text/plain": [
       "array([[-15.93675813],\n",
       "       [-29.15297922],\n",
       "       [ 36.18954863],\n",
       "       [ 37.49218733],\n",
       "       [-48.05882945],\n",
       "       [ -8.94145794],\n",
       "       [ 15.30779289],\n",
       "       [-34.70626581],\n",
       "       [  1.38915437],\n",
       "       [-44.38375985],\n",
       "       [  7.01350208],\n",
       "       [ 22.76274892]])"
      ]
     },
     "execution_count": 3,
     "metadata": {},
     "output_type": "execute_result"
    }
   ],
   "source": [
    "X"
   ]
  },
  {
   "cell_type": "code",
   "execution_count": 4,
   "metadata": {},
   "outputs": [],
   "source": [
    "X1 = np.hstack([np.ones([X.shape[0],1]),X])"
   ]
  },
  {
   "cell_type": "code",
   "execution_count": 5,
   "metadata": {},
   "outputs": [],
   "source": [
    "theta = np.ones(X1.shape[1])"
   ]
  },
  {
   "cell_type": "code",
   "execution_count": 6,
   "metadata": {},
   "outputs": [],
   "source": [
    "def coste_rl(Xs, yv, theta, reg):\n",
    "    m = len(Xs)\n",
    "    H = (np.matmul(Xs,theta) - yv.T)**2\n",
    "    sumatorio_reg = (reg/(2*m)) * np.sum(theta[1:]**2)\n",
    "    coste = (1/(2*m)) * sum(H[0]) + sumatorio_reg\n",
    "    return coste"
   ]
  },
  {
   "cell_type": "code",
   "execution_count": 7,
   "metadata": {},
   "outputs": [
    {
     "data": {
      "text/plain": [
       "303.9931922202643"
      ]
     },
     "execution_count": 7,
     "metadata": {},
     "output_type": "execute_result"
    }
   ],
   "source": [
    "coste_rl(X1, y, theta, 1)"
   ]
  },
  {
   "cell_type": "code",
   "execution_count": 8,
   "metadata": {},
   "outputs": [],
   "source": [
    "def gradiente_rl(Xs, yv, theta, reg):\n",
    "    m = len(Xs)\n",
    "    H = (np.matmul(Xs,theta) - yv.T)\n",
    "    j0 = ((1/m) *  sum(H.T * Xs[0]))\n",
    "    jn_1 = ((1/m) *  sum(H.T * Xs)) + (reg/m)*theta\n",
    "    return np.append(j0[0], jn_1[1:])"
   ]
  },
  {
   "cell_type": "code",
   "execution_count": 9,
   "metadata": {},
   "outputs": [
    {
     "data": {
      "text/plain": [
       "array([-15.30301567, 598.25074417])"
      ]
     },
     "execution_count": 9,
     "metadata": {},
     "output_type": "execute_result"
    }
   ],
   "source": [
    "gradiente_rl(X1,y,theta,1)"
   ]
  },
  {
   "cell_type": "code",
   "execution_count": 10,
   "metadata": {},
   "outputs": [],
   "source": [
    "def regresion_linear_regularizada(theta, X, yv, reg):\n",
    "    \"\"\"\n",
    "    Devuelve el valor del coste y del gradiente aplicando regresion linear regularizada \n",
    "    sobre el conjunto de datos con entrada X y salida y \n",
    "    X     -- entrada conjunto de datos\n",
    "    y     -- salida conjunto de datos\n",
    "    theta -- vector de parametros theta\n",
    "    reg   -- valor de regularizacion\n",
    "    \"\"\"\n",
    "    coste = coste_rl(X,yv,theta,reg)\n",
    "    gradiente = gradiente_rl(X,yv,theta,reg)\n",
    "    \n",
    "    return coste, gradiente"
   ]
  },
  {
   "cell_type": "code",
   "execution_count": 11,
   "metadata": {},
   "outputs": [
    {
     "data": {
      "text/plain": [
       "(303.9931922202643, array([-15.30301567, 598.25074417]))"
      ]
     },
     "execution_count": 11,
     "metadata": {},
     "output_type": "execute_result"
    }
   ],
   "source": [
    "regresion_linear_regularizada(theta, X1, y, 1)"
   ]
  },
  {
   "cell_type": "code",
   "execution_count": 12,
   "metadata": {},
   "outputs": [],
   "source": [
    "tmin = opt.minimize(fun=regresion_linear_regularizada, x0=theta, args=(X1, y, 0),method='TNC',jac=True,options={'maxiter' : 70})"
   ]
  },
  {
   "cell_type": "code",
   "execution_count": 13,
   "metadata": {},
   "outputs": [
    {
     "data": {
      "text/plain": [
       "     fun: 22.373906495108947\n",
       "     jac: array([ 2.61044255e-07, -1.38713461e-08])\n",
       " message: 'Converged (|f_n-f_(n-1)| ~= 0)'\n",
       "    nfev: 9\n",
       "     nit: 4\n",
       "  status: 1\n",
       " success: True\n",
       "       x: array([13.08790378,  0.36777923])"
      ]
     },
     "execution_count": 13,
     "metadata": {},
     "output_type": "execute_result"
    }
   ],
   "source": [
    "tmin"
   ]
  },
  {
   "cell_type": "code",
   "execution_count": 14,
   "metadata": {},
   "outputs": [],
   "source": [
    "def h0(teta0,teta1,x):\n",
    "    return teta0 + teta1*x"
   ]
  },
  {
   "cell_type": "code",
   "execution_count": 183,
   "metadata": {
    "scrolled": false
   },
   "outputs": [
    {
     "data": {
      "text/plain": [
       "<Figure size 432x288 with 0 Axes>"
      ]
     },
     "metadata": {},
     "output_type": "display_data"
    },
    {
     "data": {
      "image/png": "[encoded data removed]",
      "text/plain": [
       "<Figure size 648x648 with 1 Axes>"
      ]
     },
     "metadata": {
      "needs_background": "light"
     },
     "output_type": "display_data"
    },
    {
     "data": {
      "text/plain": [
       "<Figure size 432x288 with 0 Axes>"
      ]
     },
     "metadata": {},
     "output_type": "display_data"
    }
   ],
   "source": [
    "plt.figure()\n",
    "fig= plt.figure(figsize=(9,9))\n",
    "plt.scatter(X[:],y[:],c='red',marker=\"x\")\n",
    "plt.plot(X,h0(tmin['x'][0],tmin['x'][1],X), c='black',linewidth=1)\n",
    "plt.xlabel('Nivel del agua')\n",
    "plt.ylabel('Volumen de agua derramada de la presa')\n",
    "plt.show()\n",
    "plt.savefig('p5Fig1.png')"
   ]
  },
  {
   "cell_type": "markdown",
   "metadata": {},
   "source": [
    "## Curvas de aprendizaje"
   ]
  },
  {
   "cell_type": "code",
   "execution_count": 15,
   "metadata": {
    "scrolled": true
   },
   "outputs": [],
   "source": [
    "the_ca = []\n",
    "error_t = []\n",
    "error_cv = []\n",
    "Xval1 = np.hstack([np.ones([Xval.shape[0],1]),Xval])\n",
    "for i in range(len(X)):\n",
    "    subconjunto_x = X1[0:i+1]\n",
    "    subconjunto_y = y[0:i+1]\n",
    "    tmin = opt.minimize(fun=regresion_linear_regularizada, x0=theta, args=(subconjunto_x, subconjunto_y, 0),method='TNC',jac=True,options={'maxiter' : 70})\n",
    "    the_ca.append(tmin['x'])\n",
    "    error_t.append(coste_rl(subconjunto_x, subconjunto_y, the_ca[i], 0))\n",
    "    error_cv.append(coste_rl(Xval1, yval, the_ca[i], 0))"
   ]
  },
  {
   "cell_type": "code",
   "execution_count": 16,
   "metadata": {},
   "outputs": [
    {
     "data": {
      "text/plain": [
       "[array([ 1.06695055, -0.06697472]),\n",
       " array([3.29319568, 0.07271775]),\n",
       " array([14.15499028,  0.53912266]),\n",
       " array([14.62429824,  0.55985727]),\n",
       " array([17.21375957,  0.44974975]),\n",
       " array([15.40485121,  0.45741711]),\n",
       " array([14.26678031,  0.4368173 ]),\n",
       " array([14.62344002,  0.42312838]),\n",
       " array([13.29661008,  0.41299409]),\n",
       " array([13.85366366,  0.37780979]),\n",
       " array([12.93724128,  0.36342987]),\n",
       " array([13.08790378,  0.36777923])]"
      ]
     },
     "execution_count": 16,
     "metadata": {},
     "output_type": "execute_result"
    }
   ],
   "source": [
    "the_ca"
   ]
  },
  {
   "cell_type": "code",
   "execution_count": 17,
   "metadata": {},
   "outputs": [
    {
     "data": {
      "text/plain": [
       "[8.631534185484672e-18,\n",
       " 8.371044654825317e-18,\n",
       " 3.286595045501339,\n",
       " 2.842677689399798,\n",
       " 13.15404880911494,\n",
       " 19.443962512495474,\n",
       " 20.098521655088906,\n",
       " 18.172858695200027,\n",
       " 22.60940542495472,\n",
       " 23.261461592612033,\n",
       " 24.31724958804419,\n",
       " 22.373906495108947]"
      ]
     },
     "execution_count": 17,
     "metadata": {},
     "output_type": "execute_result"
    }
   ],
   "source": [
    "error_t"
   ]
  },
  {
   "cell_type": "code",
   "execution_count": 18,
   "metadata": {},
   "outputs": [
    {
     "data": {
      "text/plain": [
       "[169.87070840820135,\n",
       " 110.3003658450425,\n",
       " 45.010231234641175,\n",
       " 48.36891147269707,\n",
       " 35.86516420888284,\n",
       " 33.829961749819155,\n",
       " 31.970985730857027,\n",
       " 30.86244629494908,\n",
       " 31.13599805614193,\n",
       " 28.93620722435191,\n",
       " 29.551431975377273,\n",
       " 29.433817800893944]"
      ]
     },
     "execution_count": 18,
     "metadata": {},
     "output_type": "execute_result"
    }
   ],
   "source": [
    "error_cv"
   ]
  },
  {
   "cell_type": "code",
   "execution_count": 184,
   "metadata": {},
   "outputs": [
    {
     "data": {
      "text/plain": [
       "<Figure size 432x288 with 0 Axes>"
      ]
     },
     "metadata": {},
     "output_type": "display_data"
    },
    {
     "data": {
      "image/png": "[encoded data removed]",
      "text/plain": [
       "<Figure size 648x648 with 1 Axes>"
      ]
     },
     "metadata": {
      "needs_background": "light"
     },
     "output_type": "display_data"
    },
    {
     "data": {
      "text/plain": [
       "<Figure size 432x288 with 0 Axes>"
      ]
     },
     "metadata": {},
     "output_type": "display_data"
    }
   ],
   "source": [
    "subconjuntos = np.arange(0,12)\n",
    "plt.figure()\n",
    "fig= plt.figure(figsize=(9,9))\n",
    "plt.plot(subconjuntos,error_t, c='black',linewidth=1,label='Train')\n",
    "plt.plot(subconjuntos,error_cv, c='orange',linewidth=1,label='Cross Validation')\n",
    "plt.xlabel('Nº ejemplos de entrenamiento')\n",
    "plt.ylabel('Error')\n",
    "plt.legend(loc=1)\n",
    "plt.show()\n",
    "plt.savefig('p5Fig2.png')"
   ]
  },
  {
   "cell_type": "markdown",
   "metadata": {},
   "source": [
    "## Regresion polinomial"
   ]
  },
  {
   "cell_type": "code",
   "execution_count": 237,
   "metadata": {},
   "outputs": [],
   "source": [
    "def matriz_exponentes(mat, p):\n",
    "    base = mat\n",
    "    for i in range(1,p):\n",
    "        nueva = base**(i+1)\n",
    "        mat = np.hstack((mat, nueva))\n",
    "    return mat"
   ]
  },
  {
   "cell_type": "code",
   "execution_count": 240,
   "metadata": {},
   "outputs": [],
   "source": [
    "nM = matriz_exponentes(X,4)"
   ]
  },
  {
   "cell_type": "code",
   "execution_count": 243,
   "metadata": {
    "scrolled": false
   },
   "outputs": [
    {
     "data": {
      "text/plain": [
       "array([-15.93675813, -29.15297922,  36.18954863,  37.49218733,\n",
       "       -48.05882945,  -8.94145794,  15.30779289, -34.70626581,\n",
       "         1.38915437, -44.38375985,   7.01350208,  22.76274892])"
      ]
     },
     "execution_count": 243,
     "metadata": {},
     "output_type": "execute_result"
    }
   ],
   "source": [
    "nM[:,0]"
   ]
  },
  {
   "cell_type": "code",
   "execution_count": 244,
   "metadata": {},
   "outputs": [],
   "source": [
    "def normaliza_matriz(mat):\n",
    "    medias = []\n",
    "    dev_estandar = []\n",
    "    for i in range(len(mat)):\n",
    "        mat[i] = mat[i]/np.linalg.norm(mat[i])\n",
    "        medias.append(np.mean(mat[i]))\n",
    "        dev_estandar.append(np.std(mat[i]))\n",
    "    return mat, np.array(medias), np.array(dev_estandar)"
   ]
  },
  {
   "cell_type": "code",
   "execution_count": 245,
   "metadata": {},
   "outputs": [],
   "source": [
    "nM, med, d_estandar = normaliza_matriz(nM)"
   ]
  },
  {
   "cell_type": "code",
   "execution_count": 254,
   "metadata": {},
   "outputs": [
    {
     "data": {
      "text/plain": [
       "array([0.9980294 , 0.99941152, 0.99961816, 0.99964423, 0.99978349,\n",
       "       0.9937264 , 0.99786396, 0.99958481, 0.72058351, 0.99974615,\n",
       "       0.98978306, 0.99903455])"
      ]
     },
     "execution_count": 254,
     "metadata": {},
     "output_type": "execute_result"
    }
   ],
   "source": [
    "nM[:,3]"
   ]
  },
  {
   "cell_type": "code",
   "execution_count": 179,
   "metadata": {},
   "outputs": [
    {
     "data": {
      "text/plain": [
       "array([-0.05038569,  0.21578823, -0.07733428,  0.17703726, -0.09087978])"
      ]
     },
     "execution_count": 179,
     "metadata": {},
     "output_type": "execute_result"
    }
   ],
   "source": [
    "med"
   ]
  },
  {
   "cell_type": "code",
   "execution_count": 180,
   "metadata": {},
   "outputs": [
    {
     "data": {
      "text/plain": [
       "array([0.28424394, 0.19175185, 0.27812361, 0.22801566, 0.27399671])"
      ]
     },
     "execution_count": 180,
     "metadata": {},
     "output_type": "execute_result"
    }
   ],
   "source": [
    "d_estandar"
   ]
  },
  {
   "cell_type": "code",
   "execution_count": 255,
   "metadata": {},
   "outputs": [],
   "source": [
    "matriz_entrada = matriz_exponentes(X,8)"
   ]
  },
  {
   "cell_type": "code",
   "execution_count": 256,
   "metadata": {},
   "outputs": [],
   "source": [
    "matriz_entrada, vec_medias, vec_desviacion = normaliza_matriz(matriz_entrada)"
   ]
  },
  {
   "cell_type": "code",
   "execution_count": 257,
   "metadata": {},
   "outputs": [
    {
     "data": {
      "text/plain": [
       "array([[-3.82246453e-09,  6.09176928e-08, -9.70830536e-07,\n",
       "         1.54718914e-05, -2.46571792e-04,  3.92955501e-03,\n",
       "        -6.26243677e-02,  9.98029401e-01],\n",
       "       [-5.58423582e-11,  1.62797111e-09, -4.74602079e-08,\n",
       "         1.38360645e-06, -4.03362502e-05,  1.17592186e-03,\n",
       "        -3.42816256e-02,  9.99411520e-01],\n",
       "       [ 1.22956635e-11,  4.44974513e-10,  1.61034268e-08,\n",
       "         5.82775747e-07,  2.10903912e-05,  7.63251739e-04,\n",
       "         2.76217359e-02,  9.99618155e-01],\n",
       "       [ 9.59975206e-12,  3.59915703e-10,  1.34940269e-08,\n",
       "         5.05920586e-07,  1.89680694e-05,  7.11154411e-04,\n",
       "         2.66627344e-02,  9.99644233e-01],\n",
       "       [-1.68847114e-12,  8.11459465e-11, -3.89977920e-09,\n",
       "         1.87418824e-07, -9.00712928e-06,  4.32872090e-04,\n",
       "        -2.08033259e-02,  9.99783494e-01],\n",
       "       [-2.17474558e-07,  1.94453961e-06, -1.73870191e-05,\n",
       "         1.55465300e-04, -1.39008644e-03,  1.24293995e-02,\n",
       "        -1.11136953e-01,  9.93726386e-01],\n",
       "       [ 5.06621125e-09,  7.75525125e-08,  1.18715780e-06,\n",
       "         1.81727657e-05,  2.78184934e-04,  4.25839735e-03,\n",
       "         6.51866647e-02,  9.97863962e-01],\n",
       "       [-1.64802740e-11,  5.71968770e-10, -1.98509002e-08,\n",
       "         6.88950618e-07, -2.39109033e-05,  8.29858165e-04,\n",
       "        -2.88012781e-02,  9.99584812e-01],\n",
       "       [ 6.97125662e-02,  9.68415159e-02,  1.34527815e-01,\n",
       "         1.86879902e-01,  2.59605032e-01,  3.60631464e-01,\n",
       "         5.00972774e-01,  6.95928518e-01],\n",
       "       [-2.94659952e-12,  1.30781165e-10, -5.80455984e-09,\n",
       "         2.57628190e-07, -1.14345077e-05,  5.07506444e-04,\n",
       "        -2.25250441e-02,  9.99746150e-01],\n",
       "       [ 1.18575637e-06,  8.31630480e-06,  5.83264210e-05,\n",
       "         4.09072475e-04,  2.86903066e-03,  2.01219525e-02,\n",
       "         1.41125356e-01,  9.89782976e-01],\n",
       "       [ 3.15505948e-10,  7.18178268e-09,  1.63477116e-07,\n",
       "         3.72118854e-06,  8.47044805e-05,  1.92810682e-03,\n",
       "         4.38890115e-02,  9.99034549e-01]])"
      ]
     },
     "execution_count": 257,
     "metadata": {},
     "output_type": "execute_result"
    }
   ],
   "source": [
    "matriz_entrada"
   ]
  },
  {
   "cell_type": "code",
   "execution_count": 259,
   "metadata": {},
   "outputs": [],
   "source": [
    "matriz_entrada1 = np.hstack([np.ones([matriz_entrada.shape[0],1]),matriz_entrada])"
   ]
  },
  {
   "cell_type": "code",
   "execution_count": 260,
   "metadata": {},
   "outputs": [
    {
     "data": {
      "text/plain": [
       "array([-3.82246453e-09,  6.09176928e-08, -9.70830536e-07,  1.54718914e-05,\n",
       "       -2.46571792e-04,  3.92955501e-03, -6.26243677e-02,  9.98029401e-01])"
      ]
     },
     "execution_count": 260,
     "metadata": {},
     "output_type": "execute_result"
    }
   ],
   "source": [
    "matriz_entrada[0]"
   ]
  },
  {
   "cell_type": "code",
   "execution_count": 263,
   "metadata": {},
   "outputs": [
    {
     "data": {
      "text/plain": [
       "array([1., 1., 1., 1., 1., 1., 1., 1., 1., 1., 1., 1.])"
      ]
     },
     "execution_count": 263,
     "metadata": {},
     "output_type": "execute_result"
    }
   ],
   "source": [
    "matriz_entrada1[:,0]"
   ]
  },
  {
   "cell_type": "code",
   "execution_count": null,
   "metadata": {},
   "outputs": [],
   "source": []
  }
 ],
 "metadata": {
  "kernelspec": {
   "display_name": "Python 3",
   "language": "python",
   "name": "python3"
  },
  "language_info": {
   "codemirror_mode": {
    "name": "ipython",
    "version": 3
   },
   "file_extension": ".py",
   "mimetype": "text/x-python",
   "name": "python",
   "nbconvert_exporter": "python",
   "pygments_lexer": "ipython3",
   "version": "3.8.5"
  }
 },
 "nbformat": 4,
 "nbformat_minor": 4
}
